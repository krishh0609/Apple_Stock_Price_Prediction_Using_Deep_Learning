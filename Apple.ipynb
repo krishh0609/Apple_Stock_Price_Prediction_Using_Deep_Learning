{
  "nbformat": 4,
  "nbformat_minor": 0,
  "metadata": {
    "colab": {
      "provenance": [],
      "gpuType": "T4"
    },
    "kernelspec": {
      "name": "python3",
      "display_name": "Python 3"
    },
    "language_info": {
      "name": "python"
    },
    "accelerator": "GPU"
  },
  "cells": [
    {
      "cell_type": "code",
      "source": [
        "import pandas_datareader as pdr\n",
        "import datetime\n",
        "import matplotlib.pyplot as plt\n",
        "import numpy as np\n",
        "from sklearn.preprocessing import MinMaxScaler\n",
        "from tensorflow.keras.models import Sequential\n",
        "from tensorflow.keras.layers import Dense\n",
        "from tensorflow.keras.layers import LSTM\n",
        "from keras.callbacks import EarlyStopping"
      ],
      "metadata": {
        "id": "z3N3XrRO85AK"
      },
      "execution_count": 1,
      "outputs": []
    },
    {
      "cell_type": "code",
      "source": [
        "api_key = '583f72921975ede08f1dcbcface9a11e8836ef1a'"
      ],
      "metadata": {
        "id": "P4HyfRHy9FNS"
      },
      "execution_count": 2,
      "outputs": []
    },
    {
      "cell_type": "code",
      "source": [
        "symbol = 'AAPL'"
      ],
      "metadata": {
        "id": "WUtSnVzA9FO_"
      },
      "execution_count": 3,
      "outputs": []
    },
    {
      "cell_type": "code",
      "source": [
        "start_date = datetime.datetime(2000, 1, 1)\n",
        "end_date = datetime.datetime(2023, 8, 20)"
      ],
      "metadata": {
        "id": "AbftLfL_9FUE"
      },
      "execution_count": 4,
      "outputs": []
    },
    {
      "cell_type": "code",
      "source": [
        "tiingo_data = pdr.tiingo.TiingoDailyReader(\n",
        "    symbols=symbol,\n",
        "    start=start_date,\n",
        "    end=end_date,\n",
        "    api_key=api_key\n",
        ")"
      ],
      "metadata": {
        "id": "TV0tZdwp9FVu"
      },
      "execution_count": 5,
      "outputs": []
    },
    {
      "cell_type": "code",
      "source": [
        "df = tiingo_data.read()\n",
        "df.head()"
      ],
      "metadata": {
        "colab": {
          "base_uri": "https://localhost:8080/",
          "height": 379
        },
        "id": "qfN5zFdk9qi4",
        "outputId": "ba9582a0-6d34-4ac5-ddeb-7ba83efaa99c"
      },
      "execution_count": 6,
      "outputs": [
        {
          "output_type": "stream",
          "name": "stderr",
          "text": [
            "<ipython-input-6-a7d90d8b948f>:1: FutureWarning: In a future version of pandas all arguments of concat except for the argument 'objs' will be keyword-only.\n",
            "  df = tiingo_data.read()\n"
          ]
        },
        {
          "output_type": "execute_result",
          "data": {
            "text/plain": [
              "                                   close    high     low    open   volume  \\\n",
              "symbol date                                                                 \n",
              "AAPL   2000-01-03 00:00:00+00:00  111.94  112.50  101.69  104.87  4783900   \n",
              "       2000-01-04 00:00:00+00:00  102.50  110.62  101.19  108.25  4574800   \n",
              "       2000-01-05 00:00:00+00:00  104.00  110.56  103.00  103.75  6949300   \n",
              "       2000-01-06 00:00:00+00:00   95.00  107.00   95.00  106.12  6856900   \n",
              "       2000-01-07 00:00:00+00:00   99.50  101.00   95.50   96.50  4113700   \n",
              "\n",
              "                                  adjClose   adjHigh    adjLow   adjOpen  \\\n",
              "symbol date                                                                \n",
              "AAPL   2000-01-03 00:00:00+00:00  0.848235  0.852479  0.770565  0.794662   \n",
              "       2000-01-04 00:00:00+00:00  0.776703  0.838233  0.766776  0.820274   \n",
              "       2000-01-05 00:00:00+00:00  0.788069  0.837778  0.780492  0.786175   \n",
              "       2000-01-06 00:00:00+00:00  0.719871  0.810802  0.719871  0.804134   \n",
              "       2000-01-07 00:00:00+00:00  0.753970  0.765337  0.723660  0.731237   \n",
              "\n",
              "                                  adjVolume  divCash  splitFactor  \n",
              "symbol date                                                        \n",
              "AAPL   2000-01-03 00:00:00+00:00  535797335      0.0          1.0  \n",
              "       2000-01-04 00:00:00+00:00  512378112      0.0          1.0  \n",
              "       2000-01-05 00:00:00+00:00  778322378      0.0          1.0  \n",
              "       2000-01-06 00:00:00+00:00  767973567      0.0          1.0  \n",
              "       2000-01-07 00:00:00+00:00  460734860      0.0          1.0  "
            ],
            "text/html": [
              "\n",
              "  <div id=\"df-594791c2-72bd-4723-a481-4363087a4e39\" class=\"colab-df-container\">\n",
              "    <div>\n",
              "<style scoped>\n",
              "    .dataframe tbody tr th:only-of-type {\n",
              "        vertical-align: middle;\n",
              "    }\n",
              "\n",
              "    .dataframe tbody tr th {\n",
              "        vertical-align: top;\n",
              "    }\n",
              "\n",
              "    .dataframe thead th {\n",
              "        text-align: right;\n",
              "    }\n",
              "</style>\n",
              "<table border=\"1\" class=\"dataframe\">\n",
              "  <thead>\n",
              "    <tr style=\"text-align: right;\">\n",
              "      <th></th>\n",
              "      <th></th>\n",
              "      <th>close</th>\n",
              "      <th>high</th>\n",
              "      <th>low</th>\n",
              "      <th>open</th>\n",
              "      <th>volume</th>\n",
              "      <th>adjClose</th>\n",
              "      <th>adjHigh</th>\n",
              "      <th>adjLow</th>\n",
              "      <th>adjOpen</th>\n",
              "      <th>adjVolume</th>\n",
              "      <th>divCash</th>\n",
              "      <th>splitFactor</th>\n",
              "    </tr>\n",
              "    <tr>\n",
              "      <th>symbol</th>\n",
              "      <th>date</th>\n",
              "      <th></th>\n",
              "      <th></th>\n",
              "      <th></th>\n",
              "      <th></th>\n",
              "      <th></th>\n",
              "      <th></th>\n",
              "      <th></th>\n",
              "      <th></th>\n",
              "      <th></th>\n",
              "      <th></th>\n",
              "      <th></th>\n",
              "      <th></th>\n",
              "    </tr>\n",
              "  </thead>\n",
              "  <tbody>\n",
              "    <tr>\n",
              "      <th rowspan=\"5\" valign=\"top\">AAPL</th>\n",
              "      <th>2000-01-03 00:00:00+00:00</th>\n",
              "      <td>111.94</td>\n",
              "      <td>112.50</td>\n",
              "      <td>101.69</td>\n",
              "      <td>104.87</td>\n",
              "      <td>4783900</td>\n",
              "      <td>0.848235</td>\n",
              "      <td>0.852479</td>\n",
              "      <td>0.770565</td>\n",
              "      <td>0.794662</td>\n",
              "      <td>535797335</td>\n",
              "      <td>0.0</td>\n",
              "      <td>1.0</td>\n",
              "    </tr>\n",
              "    <tr>\n",
              "      <th>2000-01-04 00:00:00+00:00</th>\n",
              "      <td>102.50</td>\n",
              "      <td>110.62</td>\n",
              "      <td>101.19</td>\n",
              "      <td>108.25</td>\n",
              "      <td>4574800</td>\n",
              "      <td>0.776703</td>\n",
              "      <td>0.838233</td>\n",
              "      <td>0.766776</td>\n",
              "      <td>0.820274</td>\n",
              "      <td>512378112</td>\n",
              "      <td>0.0</td>\n",
              "      <td>1.0</td>\n",
              "    </tr>\n",
              "    <tr>\n",
              "      <th>2000-01-05 00:00:00+00:00</th>\n",
              "      <td>104.00</td>\n",
              "      <td>110.56</td>\n",
              "      <td>103.00</td>\n",
              "      <td>103.75</td>\n",
              "      <td>6949300</td>\n",
              "      <td>0.788069</td>\n",
              "      <td>0.837778</td>\n",
              "      <td>0.780492</td>\n",
              "      <td>0.786175</td>\n",
              "      <td>778322378</td>\n",
              "      <td>0.0</td>\n",
              "      <td>1.0</td>\n",
              "    </tr>\n",
              "    <tr>\n",
              "      <th>2000-01-06 00:00:00+00:00</th>\n",
              "      <td>95.00</td>\n",
              "      <td>107.00</td>\n",
              "      <td>95.00</td>\n",
              "      <td>106.12</td>\n",
              "      <td>6856900</td>\n",
              "      <td>0.719871</td>\n",
              "      <td>0.810802</td>\n",
              "      <td>0.719871</td>\n",
              "      <td>0.804134</td>\n",
              "      <td>767973567</td>\n",
              "      <td>0.0</td>\n",
              "      <td>1.0</td>\n",
              "    </tr>\n",
              "    <tr>\n",
              "      <th>2000-01-07 00:00:00+00:00</th>\n",
              "      <td>99.50</td>\n",
              "      <td>101.00</td>\n",
              "      <td>95.50</td>\n",
              "      <td>96.50</td>\n",
              "      <td>4113700</td>\n",
              "      <td>0.753970</td>\n",
              "      <td>0.765337</td>\n",
              "      <td>0.723660</td>\n",
              "      <td>0.731237</td>\n",
              "      <td>460734860</td>\n",
              "      <td>0.0</td>\n",
              "      <td>1.0</td>\n",
              "    </tr>\n",
              "  </tbody>\n",
              "</table>\n",
              "</div>\n",
              "    <div class=\"colab-df-buttons\">\n",
              "\n",
              "  <div class=\"colab-df-container\">\n",
              "    <button class=\"colab-df-convert\" onclick=\"convertToInteractive('df-594791c2-72bd-4723-a481-4363087a4e39')\"\n",
              "            title=\"Convert this dataframe to an interactive table.\"\n",
              "            style=\"display:none;\">\n",
              "\n",
              "  <svg xmlns=\"http://www.w3.org/2000/svg\" height=\"24px\" viewBox=\"0 -960 960 960\">\n",
              "    <path d=\"M120-120v-720h720v720H120Zm60-500h600v-160H180v160Zm220 220h160v-160H400v160Zm0 220h160v-160H400v160ZM180-400h160v-160H180v160Zm440 0h160v-160H620v160ZM180-180h160v-160H180v160Zm440 0h160v-160H620v160Z\"/>\n",
              "  </svg>\n",
              "    </button>\n",
              "\n",
              "  <style>\n",
              "    .colab-df-container {\n",
              "      display:flex;\n",
              "      gap: 12px;\n",
              "    }\n",
              "\n",
              "    .colab-df-convert {\n",
              "      background-color: #E8F0FE;\n",
              "      border: none;\n",
              "      border-radius: 50%;\n",
              "      cursor: pointer;\n",
              "      display: none;\n",
              "      fill: #1967D2;\n",
              "      height: 32px;\n",
              "      padding: 0 0 0 0;\n",
              "      width: 32px;\n",
              "    }\n",
              "\n",
              "    .colab-df-convert:hover {\n",
              "      background-color: #E2EBFA;\n",
              "      box-shadow: 0px 1px 2px rgba(60, 64, 67, 0.3), 0px 1px 3px 1px rgba(60, 64, 67, 0.15);\n",
              "      fill: #174EA6;\n",
              "    }\n",
              "\n",
              "    .colab-df-buttons div {\n",
              "      margin-bottom: 4px;\n",
              "    }\n",
              "\n",
              "    [theme=dark] .colab-df-convert {\n",
              "      background-color: #3B4455;\n",
              "      fill: #D2E3FC;\n",
              "    }\n",
              "\n",
              "    [theme=dark] .colab-df-convert:hover {\n",
              "      background-color: #434B5C;\n",
              "      box-shadow: 0px 1px 3px 1px rgba(0, 0, 0, 0.15);\n",
              "      filter: drop-shadow(0px 1px 2px rgba(0, 0, 0, 0.3));\n",
              "      fill: #FFFFFF;\n",
              "    }\n",
              "  </style>\n",
              "\n",
              "    <script>\n",
              "      const buttonEl =\n",
              "        document.querySelector('#df-594791c2-72bd-4723-a481-4363087a4e39 button.colab-df-convert');\n",
              "      buttonEl.style.display =\n",
              "        google.colab.kernel.accessAllowed ? 'block' : 'none';\n",
              "\n",
              "      async function convertToInteractive(key) {\n",
              "        const element = document.querySelector('#df-594791c2-72bd-4723-a481-4363087a4e39');\n",
              "        const dataTable =\n",
              "          await google.colab.kernel.invokeFunction('convertToInteractive',\n",
              "                                                    [key], {});\n",
              "        if (!dataTable) return;\n",
              "\n",
              "        const docLinkHtml = 'Like what you see? Visit the ' +\n",
              "          '<a target=\"_blank\" href=https://colab.research.google.com/notebooks/data_table.ipynb>data table notebook</a>'\n",
              "          + ' to learn more about interactive tables.';\n",
              "        element.innerHTML = '';\n",
              "        dataTable['output_type'] = 'display_data';\n",
              "        await google.colab.output.renderOutput(dataTable, element);\n",
              "        const docLink = document.createElement('div');\n",
              "        docLink.innerHTML = docLinkHtml;\n",
              "        element.appendChild(docLink);\n",
              "      }\n",
              "    </script>\n",
              "  </div>\n",
              "\n",
              "\n",
              "<div id=\"df-609cdbbb-b3c7-4375-9495-d12899e552b6\">\n",
              "  <button class=\"colab-df-quickchart\" onclick=\"quickchart('df-609cdbbb-b3c7-4375-9495-d12899e552b6')\"\n",
              "            title=\"Suggest charts.\"\n",
              "            style=\"display:none;\">\n",
              "\n",
              "<svg xmlns=\"http://www.w3.org/2000/svg\" height=\"24px\"viewBox=\"0 0 24 24\"\n",
              "     width=\"24px\">\n",
              "    <g>\n",
              "        <path d=\"M19 3H5c-1.1 0-2 .9-2 2v14c0 1.1.9 2 2 2h14c1.1 0 2-.9 2-2V5c0-1.1-.9-2-2-2zM9 17H7v-7h2v7zm4 0h-2V7h2v10zm4 0h-2v-4h2v4z\"/>\n",
              "    </g>\n",
              "</svg>\n",
              "  </button>\n",
              "\n",
              "<style>\n",
              "  .colab-df-quickchart {\n",
              "    background-color: #E8F0FE;\n",
              "    border: none;\n",
              "    border-radius: 50%;\n",
              "    cursor: pointer;\n",
              "    display: none;\n",
              "    fill: #1967D2;\n",
              "    height: 32px;\n",
              "    padding: 0 0 0 0;\n",
              "    width: 32px;\n",
              "  }\n",
              "\n",
              "  .colab-df-quickchart:hover {\n",
              "    background-color: #E2EBFA;\n",
              "    box-shadow: 0px 1px 2px rgba(60, 64, 67, 0.3), 0px 1px 3px 1px rgba(60, 64, 67, 0.15);\n",
              "    fill: #174EA6;\n",
              "  }\n",
              "\n",
              "  [theme=dark] .colab-df-quickchart {\n",
              "    background-color: #3B4455;\n",
              "    fill: #D2E3FC;\n",
              "  }\n",
              "\n",
              "  [theme=dark] .colab-df-quickchart:hover {\n",
              "    background-color: #434B5C;\n",
              "    box-shadow: 0px 1px 3px 1px rgba(0, 0, 0, 0.15);\n",
              "    filter: drop-shadow(0px 1px 2px rgba(0, 0, 0, 0.3));\n",
              "    fill: #FFFFFF;\n",
              "  }\n",
              "</style>\n",
              "\n",
              "  <script>\n",
              "    async function quickchart(key) {\n",
              "      const charts = await google.colab.kernel.invokeFunction(\n",
              "          'suggestCharts', [key], {});\n",
              "    }\n",
              "    (() => {\n",
              "      let quickchartButtonEl =\n",
              "        document.querySelector('#df-609cdbbb-b3c7-4375-9495-d12899e552b6 button');\n",
              "      quickchartButtonEl.style.display =\n",
              "        google.colab.kernel.accessAllowed ? 'block' : 'none';\n",
              "    })();\n",
              "  </script>\n",
              "</div>\n",
              "    </div>\n",
              "  </div>\n"
            ]
          },
          "metadata": {},
          "execution_count": 6
        }
      ]
    },
    {
      "cell_type": "code",
      "source": [
        "df.shape"
      ],
      "metadata": {
        "colab": {
          "base_uri": "https://localhost:8080/"
        },
        "id": "XCT6l5uL-db4",
        "outputId": "2ccdcdf2-4fdc-4922-b27a-2092309379d1"
      },
      "execution_count": 7,
      "outputs": [
        {
          "output_type": "execute_result",
          "data": {
            "text/plain": [
              "(5945, 12)"
            ]
          },
          "metadata": {},
          "execution_count": 7
        }
      ]
    },
    {
      "cell_type": "code",
      "source": [
        "df.info()"
      ],
      "metadata": {
        "colab": {
          "base_uri": "https://localhost:8080/"
        },
        "id": "_YeLTzBD_P0r",
        "outputId": "9c4870e5-6080-4301-ce5c-46507c7847f5"
      },
      "execution_count": 8,
      "outputs": [
        {
          "output_type": "stream",
          "name": "stdout",
          "text": [
            "<class 'pandas.core.frame.DataFrame'>\n",
            "MultiIndex: 5945 entries, ('AAPL', Timestamp('2000-01-03 00:00:00+0000', tz='UTC')) to ('AAPL', Timestamp('2023-08-18 00:00:00+0000', tz='UTC'))\n",
            "Data columns (total 12 columns):\n",
            " #   Column       Non-Null Count  Dtype  \n",
            "---  ------       --------------  -----  \n",
            " 0   close        5945 non-null   float64\n",
            " 1   high         5945 non-null   float64\n",
            " 2   low          5945 non-null   float64\n",
            " 3   open         5945 non-null   float64\n",
            " 4   volume       5945 non-null   int64  \n",
            " 5   adjClose     5945 non-null   float64\n",
            " 6   adjHigh      5945 non-null   float64\n",
            " 7   adjLow       5945 non-null   float64\n",
            " 8   adjOpen      5945 non-null   float64\n",
            " 9   adjVolume    5945 non-null   int64  \n",
            " 10  divCash      5945 non-null   float64\n",
            " 11  splitFactor  5945 non-null   float64\n",
            "dtypes: float64(10), int64(2)\n",
            "memory usage: 750.5+ KB\n"
          ]
        }
      ]
    },
    {
      "cell_type": "code",
      "source": [
        "df.isnull().sum()*100/len(df)"
      ],
      "metadata": {
        "colab": {
          "base_uri": "https://localhost:8080/"
        },
        "id": "r2cNXGmMAUke",
        "outputId": "750cd522-04a9-4f77-b609-113f100b71ed"
      },
      "execution_count": 9,
      "outputs": [
        {
          "output_type": "execute_result",
          "data": {
            "text/plain": [
              "close          0.0\n",
              "high           0.0\n",
              "low            0.0\n",
              "open           0.0\n",
              "volume         0.0\n",
              "adjClose       0.0\n",
              "adjHigh        0.0\n",
              "adjLow         0.0\n",
              "adjOpen        0.0\n",
              "adjVolume      0.0\n",
              "divCash        0.0\n",
              "splitFactor    0.0\n",
              "dtype: float64"
            ]
          },
          "metadata": {},
          "execution_count": 9
        }
      ]
    },
    {
      "cell_type": "code",
      "source": [
        "df1 = df.reset_index()['close']"
      ],
      "metadata": {
        "id": "StFtEsUJAbQh"
      },
      "execution_count": 10,
      "outputs": []
    },
    {
      "cell_type": "code",
      "source": [
        "df1"
      ],
      "metadata": {
        "colab": {
          "base_uri": "https://localhost:8080/"
        },
        "id": "66MyMpydAtU1",
        "outputId": "f7124a09-3627-4886-c9b1-3f76097ee9b7"
      },
      "execution_count": 11,
      "outputs": [
        {
          "output_type": "execute_result",
          "data": {
            "text/plain": [
              "0       111.94\n",
              "1       102.50\n",
              "2       104.00\n",
              "3        95.00\n",
              "4        99.50\n",
              "         ...  \n",
              "5940    179.46\n",
              "5941    177.45\n",
              "5942    176.57\n",
              "5943    174.00\n",
              "5944    174.49\n",
              "Name: close, Length: 5945, dtype: float64"
            ]
          },
          "metadata": {},
          "execution_count": 11
        }
      ]
    },
    {
      "cell_type": "code",
      "source": [
        "plt.plot(df1)"
      ],
      "metadata": {
        "colab": {
          "base_uri": "https://localhost:8080/",
          "height": 447
        },
        "id": "UuzG1XUBAtWu",
        "outputId": "734f58b8-d43c-421d-e018-ed0734dedc13"
      },
      "execution_count": 12,
      "outputs": [
        {
          "output_type": "execute_result",
          "data": {
            "text/plain": [
              "[<matplotlib.lines.Line2D at 0x78e806826980>]"
            ]
          },
          "metadata": {},
          "execution_count": 12
        },
        {
          "output_type": "display_data",
          "data": {
            "text/plain": [
              "<Figure size 640x480 with 1 Axes>"
            ],
            "image/png": "[encoded data removed]"
          },
          "metadata": {}
        }
      ]
    },
    {
      "cell_type": "code",
      "source": [
        "scaler = MinMaxScaler(feature_range=(0,1))\n",
        "df1=scaler.fit_transform(np.array(df1).reshape(-1,1))"
      ],
      "metadata": {
        "id": "oCOsQa-5AtbO"
      },
      "execution_count": 13,
      "outputs": []
    },
    {
      "cell_type": "code",
      "source": [
        "print(df1)"
      ],
      "metadata": {
        "colab": {
          "base_uri": "https://localhost:8080/"
        },
        "id": "9qBHhbPKAteA",
        "outputId": "450c5932-b9a6-40f9-c324-78e009274a2f"
      },
      "execution_count": 14,
      "outputs": [
        {
          "output_type": "stream",
          "name": "stdout",
          "text": [
            "[[0.14342942]\n",
            " [0.129728  ]\n",
            " [0.13190514]\n",
            " ...\n",
            " [0.23723475]\n",
            " [0.2335046 ]\n",
            " [0.2342158 ]]\n"
          ]
        }
      ]
    },
    {
      "cell_type": "code",
      "source": [
        "training_size = int(len(df1)*0.75)\n",
        "test_size = len(df1) - training_size\n",
        "train_data,test_data = df1[0:training_size,:],df1[training_size:len(df1),:1]"
      ],
      "metadata": {
        "id": "vDJnPDCCAtg1"
      },
      "execution_count": 15,
      "outputs": []
    },
    {
      "cell_type": "code",
      "source": [
        "training_size,test_size"
      ],
      "metadata": {
        "colab": {
          "base_uri": "https://localhost:8080/"
        },
        "id": "DcfWFjUDEubI",
        "outputId": "502eef66-0d95-4526-c497-f2cbd1bda136"
      },
      "execution_count": 16,
      "outputs": [
        {
          "output_type": "execute_result",
          "data": {
            "text/plain": [
              "(4458, 1487)"
            ]
          },
          "metadata": {},
          "execution_count": 16
        }
      ]
    },
    {
      "cell_type": "code",
      "source": [
        "train_data"
      ],
      "metadata": {
        "colab": {
          "base_uri": "https://localhost:8080/"
        },
        "id": "hSBoEAhSEudQ",
        "outputId": "90011573-ccb8-4772-db2d-4f4499ec430b"
      },
      "execution_count": 17,
      "outputs": [
        {
          "output_type": "execute_result",
          "data": {
            "text/plain": [
              "array([[0.14342942],\n",
              "       [0.129728  ],\n",
              "       [0.13190514],\n",
              "       ...,\n",
              "       [0.21125432],\n",
              "       [0.2113414 ],\n",
              "       [0.20748062]])"
            ]
          },
          "metadata": {},
          "execution_count": 17
        }
      ]
    },
    {
      "cell_type": "code",
      "source": [
        "def create_dataset(dataset,time_step=1):\n",
        "    dataX,dataY=[],[]\n",
        "    for i in range(len(dataset)-time_step-1):\n",
        "        a = dataset[i:(i+time_step),0]\n",
        "        dataX.append(a)\n",
        "        dataY.append(dataset[i+time_step,0])\n",
        "    return np.array(dataX),np.array(dataY)"
      ],
      "metadata": {
        "id": "cip2_AtKEuhU"
      },
      "execution_count": 18,
      "outputs": []
    },
    {
      "cell_type": "code",
      "source": [
        "time_step = 100\n",
        "X_train,y_train = create_dataset(train_data,time_step)\n",
        "X_test,y_test = create_dataset(test_data,time_step)"
      ],
      "metadata": {
        "id": "0EIqv-4uGJnc"
      },
      "execution_count": 19,
      "outputs": []
    },
    {
      "cell_type": "code",
      "source": [
        "print(X_train.shape),print(y_train.shape)"
      ],
      "metadata": {
        "colab": {
          "base_uri": "https://localhost:8080/"
        },
        "id": "K0zNHhX2GJpk",
        "outputId": "8bc6fba8-405a-4c3c-f7f4-3c68d6c12e9a"
      },
      "execution_count": 20,
      "outputs": [
        {
          "output_type": "stream",
          "name": "stdout",
          "text": [
            "(4357, 100)\n",
            "(4357,)\n"
          ]
        },
        {
          "output_type": "execute_result",
          "data": {
            "text/plain": [
              "(None, None)"
            ]
          },
          "metadata": {},
          "execution_count": 20
        }
      ]
    },
    {
      "cell_type": "code",
      "source": [
        "print(X_test.shape), print(y_test.shape)"
      ],
      "metadata": {
        "colab": {
          "base_uri": "https://localhost:8080/"
        },
        "id": "DI3xCdeEGJuG",
        "outputId": "f5ae06dd-667f-4dc1-841d-a92b83d69c5d"
      },
      "execution_count": 21,
      "outputs": [
        {
          "output_type": "stream",
          "name": "stdout",
          "text": [
            "(1386, 100)\n",
            "(1386,)\n"
          ]
        },
        {
          "output_type": "execute_result",
          "data": {
            "text/plain": [
              "(None, None)"
            ]
          },
          "metadata": {},
          "execution_count": 21
        }
      ]
    },
    {
      "cell_type": "code",
      "source": [
        "X_train = X_train.reshape(X_train.shape[0],X_train.shape[1],1)\n",
        "X_test = X_test.reshape(X_test.shape[0],X_test.shape[1],1)"
      ],
      "metadata": {
        "id": "7VYxlBt4GJwe"
      },
      "execution_count": 22,
      "outputs": []
    },
    {
      "cell_type": "code",
      "source": [
        "model=Sequential()\n",
        "model.add(LSTM(81,return_sequences=True,input_shape=(100,1)))\n",
        "model.add(LSTM(36,return_sequences=True))\n",
        "model.add(LSTM(27))\n",
        "model.add(Dense(1))\n",
        "model.compile(loss='mean_squared_error',optimizer='adam')"
      ],
      "metadata": {
        "id": "gvABxhRoGJ0n"
      },
      "execution_count": 30,
      "outputs": []
    },
    {
      "cell_type": "code",
      "source": [
        "early_stopping = EarlyStopping(monitor='val_loss', patience=5, restore_best_weights=True)"
      ],
      "metadata": {
        "id": "FG90BCO6ZXSv"
      },
      "execution_count": 31,
      "outputs": []
    },
    {
      "cell_type": "code",
      "source": [
        "model.summary()"
      ],
      "metadata": {
        "colab": {
          "base_uri": "https://localhost:8080/"
        },
        "id": "0GgCMgV1GJ4i",
        "outputId": "7744dbb2-a042-4e4a-8bd8-afa3e2a35d58"
      },
      "execution_count": 32,
      "outputs": [
        {
          "output_type": "stream",
          "name": "stdout",
          "text": [
            "Model: \"sequential_2\"\n",
            "_________________________________________________________________\n",
            " Layer (type)                Output Shape              Param #   \n",
            "=================================================================\n",
            " lstm_6 (LSTM)               (None, 100, 81)           26892     \n",
            "                                                                 \n",
            " lstm_7 (LSTM)               (None, 100, 36)           16992     \n",
            "                                                                 \n",
            " lstm_8 (LSTM)               (None, 27)                6912      \n",
            "                                                                 \n",
            " dense_2 (Dense)             (None, 1)                 28        \n",
            "                                                                 \n",
            "=================================================================\n",
            "Total params: 50,824\n",
            "Trainable params: 50,824\n",
            "Non-trainable params: 0\n",
            "_________________________________________________________________\n"
          ]
        }
      ]
    },
    {
      "cell_type": "code",
      "source": [
        "model.summary()"
      ],
      "metadata": {
        "colab": {
          "base_uri": "https://localhost:8080/"
        },
        "id": "n5wEicZ3Eujv",
        "outputId": "55745b1c-6b08-4e3c-a6fa-b6ae14980b63"
      },
      "execution_count": 33,
      "outputs": [
        {
          "output_type": "stream",
          "name": "stdout",
          "text": [
            "Model: \"sequential_2\"\n",
            "_________________________________________________________________\n",
            " Layer (type)                Output Shape              Param #   \n",
            "=================================================================\n",
            " lstm_6 (LSTM)               (None, 100, 81)           26892     \n",
            "                                                                 \n",
            " lstm_7 (LSTM)               (None, 100, 36)           16992     \n",
            "                                                                 \n",
            " lstm_8 (LSTM)               (None, 27)                6912      \n",
            "                                                                 \n",
            " dense_2 (Dense)             (None, 1)                 28        \n",
            "                                                                 \n",
            "=================================================================\n",
            "Total params: 50,824\n",
            "Trainable params: 50,824\n",
            "Non-trainable params: 0\n",
            "_________________________________________________________________\n"
          ]
        }
      ]
    },
    {
      "cell_type": "code",
      "source": [
        "model.fit(X_train,y_train,validation_data=(X_test,y_test),epochs=100,batch_size=64,verbose=1,callbacks=[early_stopping])"
      ],
      "metadata": {
        "colab": {
          "base_uri": "https://localhost:8080/"
        },
        "id": "TEXD7gNDLryC",
        "outputId": "54e54159-bad3-48d4-a419-52dceb161293"
      },
      "execution_count": 34,
      "outputs": [
        {
          "output_type": "stream",
          "name": "stdout",
          "text": [
            "Epoch 1/100\n",
            "69/69 [==============================] - 10s 37ms/step - loss: 0.0082 - val_loss: 0.0023\n",
            "Epoch 2/100\n",
            "69/69 [==============================] - 1s 14ms/step - loss: 0.0014 - val_loss: 0.0018\n",
            "Epoch 3/100\n",
            "69/69 [==============================] - 1s 15ms/step - loss: 0.0013 - val_loss: 0.0016\n",
            "Epoch 4/100\n",
            "69/69 [==============================] - 1s 15ms/step - loss: 0.0011 - val_loss: 0.0018\n",
            "Epoch 5/100\n",
            "69/69 [==============================] - 1s 15ms/step - loss: 0.0010 - val_loss: 0.0010\n",
            "Epoch 6/100\n",
            "69/69 [==============================] - 1s 15ms/step - loss: 8.9696e-04 - val_loss: 9.8629e-04\n",
            "Epoch 7/100\n",
            "69/69 [==============================] - 1s 15ms/step - loss: 7.8771e-04 - val_loss: 0.0010\n",
            "Epoch 8/100\n",
            "69/69 [==============================] - 1s 15ms/step - loss: 7.6222e-04 - val_loss: 7.8979e-04\n",
            "Epoch 9/100\n",
            "69/69 [==============================] - 1s 15ms/step - loss: 6.2485e-04 - val_loss: 7.3884e-04\n",
            "Epoch 10/100\n",
            "69/69 [==============================] - 1s 17ms/step - loss: 5.7275e-04 - val_loss: 7.2062e-04\n",
            "Epoch 11/100\n",
            "69/69 [==============================] - 1s 19ms/step - loss: 4.9783e-04 - val_loss: 6.2345e-04\n",
            "Epoch 12/100\n",
            "69/69 [==============================] - 1s 17ms/step - loss: 4.7903e-04 - val_loss: 6.6083e-04\n",
            "Epoch 13/100\n",
            "69/69 [==============================] - 1s 15ms/step - loss: 4.6753e-04 - val_loss: 5.5428e-04\n",
            "Epoch 14/100\n",
            "69/69 [==============================] - 1s 14ms/step - loss: 4.2454e-04 - val_loss: 4.9658e-04\n",
            "Epoch 15/100\n",
            "69/69 [==============================] - 1s 14ms/step - loss: 4.5958e-04 - val_loss: 6.3675e-04\n",
            "Epoch 16/100\n",
            "69/69 [==============================] - 1s 14ms/step - loss: 4.5469e-04 - val_loss: 4.5212e-04\n",
            "Epoch 17/100\n",
            "69/69 [==============================] - 1s 15ms/step - loss: 3.3642e-04 - val_loss: 5.0711e-04\n",
            "Epoch 18/100\n",
            "69/69 [==============================] - 1s 15ms/step - loss: 4.1024e-04 - val_loss: 3.9428e-04\n",
            "Epoch 19/100\n",
            "69/69 [==============================] - 1s 15ms/step - loss: 3.9323e-04 - val_loss: 6.1856e-04\n",
            "Epoch 20/100\n",
            "69/69 [==============================] - 1s 15ms/step - loss: 3.7458e-04 - val_loss: 3.8534e-04\n",
            "Epoch 21/100\n",
            "69/69 [==============================] - 1s 15ms/step - loss: 3.2420e-04 - val_loss: 3.6335e-04\n",
            "Epoch 22/100\n",
            "69/69 [==============================] - 1s 20ms/step - loss: 3.0572e-04 - val_loss: 5.5638e-04\n",
            "Epoch 23/100\n",
            "69/69 [==============================] - 1s 20ms/step - loss: 3.1527e-04 - val_loss: 3.4823e-04\n",
            "Epoch 24/100\n",
            "69/69 [==============================] - 1s 15ms/step - loss: 2.8107e-04 - val_loss: 3.2565e-04\n",
            "Epoch 25/100\n",
            "69/69 [==============================] - 1s 15ms/step - loss: 3.1821e-04 - val_loss: 3.6511e-04\n",
            "Epoch 26/100\n",
            "69/69 [==============================] - 1s 15ms/step - loss: 2.7600e-04 - val_loss: 3.6320e-04\n",
            "Epoch 27/100\n",
            "69/69 [==============================] - 1s 15ms/step - loss: 2.7484e-04 - val_loss: 4.2288e-04\n",
            "Epoch 28/100\n",
            "69/69 [==============================] - 1s 15ms/step - loss: 2.8082e-04 - val_loss: 4.2972e-04\n",
            "Epoch 29/100\n",
            "69/69 [==============================] - 1s 15ms/step - loss: 3.1252e-04 - val_loss: 2.9483e-04\n",
            "Epoch 30/100\n",
            "69/69 [==============================] - 1s 15ms/step - loss: 2.4135e-04 - val_loss: 6.9639e-04\n",
            "Epoch 31/100\n",
            "69/69 [==============================] - 1s 15ms/step - loss: 3.7288e-04 - val_loss: 2.9728e-04\n",
            "Epoch 32/100\n",
            "69/69 [==============================] - 1s 15ms/step - loss: 2.8581e-04 - val_loss: 2.9445e-04\n",
            "Epoch 33/100\n",
            "69/69 [==============================] - 2s 22ms/step - loss: 2.3897e-04 - val_loss: 3.0109e-04\n",
            "Epoch 34/100\n",
            "69/69 [==============================] - 2s 30ms/step - loss: 2.6520e-04 - val_loss: 2.9431e-04\n",
            "Epoch 35/100\n",
            "69/69 [==============================] - 1s 15ms/step - loss: 2.6176e-04 - val_loss: 5.3579e-04\n",
            "Epoch 36/100\n",
            "69/69 [==============================] - 1s 14ms/step - loss: 3.0188e-04 - val_loss: 2.9326e-04\n",
            "Epoch 37/100\n",
            "69/69 [==============================] - 1s 14ms/step - loss: 3.1628e-04 - val_loss: 2.8691e-04\n",
            "Epoch 38/100\n",
            "69/69 [==============================] - 1s 14ms/step - loss: 2.6032e-04 - val_loss: 2.7019e-04\n",
            "Epoch 39/100\n",
            "69/69 [==============================] - 1s 14ms/step - loss: 2.4160e-04 - val_loss: 2.6295e-04\n",
            "Epoch 40/100\n",
            "69/69 [==============================] - 1s 15ms/step - loss: 2.4977e-04 - val_loss: 2.6094e-04\n",
            "Epoch 41/100\n",
            "69/69 [==============================] - 1s 15ms/step - loss: 2.4342e-04 - val_loss: 2.6559e-04\n",
            "Epoch 42/100\n",
            "69/69 [==============================] - 1s 14ms/step - loss: 2.4672e-04 - val_loss: 2.6926e-04\n",
            "Epoch 43/100\n",
            "69/69 [==============================] - 1s 14ms/step - loss: 2.2677e-04 - val_loss: 5.6429e-04\n",
            "Epoch 44/100\n",
            "69/69 [==============================] - 1s 18ms/step - loss: 2.9104e-04 - val_loss: 2.8255e-04\n",
            "Epoch 45/100\n",
            "69/69 [==============================] - 1s 21ms/step - loss: 2.2401e-04 - val_loss: 3.5161e-04\n"
          ]
        },
        {
          "output_type": "execute_result",
          "data": {
            "text/plain": [
              "<keras.callbacks.History at 0x78e7f828e9b0>"
            ]
          },
          "metadata": {},
          "execution_count": 34
        }
      ]
    },
    {
      "cell_type": "code",
      "source": [
        "train_predict = model.predict(X_train)\n",
        "test_predict = model.predict(X_test)"
      ],
      "metadata": {
        "colab": {
          "base_uri": "https://localhost:8080/"
        },
        "id": "2LN4nF83j8LJ",
        "outputId": "b931c2d3-42b8-486b-def9-9211c75f97db"
      },
      "execution_count": 35,
      "outputs": [
        {
          "output_type": "stream",
          "name": "stdout",
          "text": [
            "137/137 [==============================] - 2s 6ms/step\n",
            "44/44 [==============================] - 0s 5ms/step\n"
          ]
        }
      ]
    },
    {
      "cell_type": "code",
      "source": [
        "train_predict = scaler.inverse_transform(train_predict)\n",
        "test_predict = scaler.inverse_transform(test_predict)"
      ],
      "metadata": {
        "id": "h11BYp5tj8PY"
      },
      "execution_count": 36,
      "outputs": []
    },
    {
      "cell_type": "code",
      "source": [
        "import math\n",
        "from sklearn.metrics import mean_squared_error\n",
        "math.sqrt(mean_squared_error(y_train,train_predict))"
      ],
      "metadata": {
        "colab": {
          "base_uri": "https://localhost:8080/"
        },
        "id": "1bFZjiNtj8Ry",
        "outputId": "1675d248-e60f-43ae-bd94-555bc7b921b6"
      },
      "execution_count": 37,
      "outputs": [
        {
          "output_type": "execute_result",
          "data": {
            "text/plain": [
              "237.74927890182903"
            ]
          },
          "metadata": {},
          "execution_count": 37
        }
      ]
    },
    {
      "cell_type": "code",
      "source": [
        "math.sqrt(mean_squared_error(y_test,test_predict))"
      ],
      "metadata": {
        "colab": {
          "base_uri": "https://localhost:8080/"
        },
        "id": "nb7TRYttnAhs",
        "outputId": "c062ae21-b4c7-4084-f65d-e4f276be1096"
      },
      "execution_count": 38,
      "outputs": [
        {
          "output_type": "execute_result",
          "data": {
            "text/plain": [
              "198.40729940849664"
            ]
          },
          "metadata": {},
          "execution_count": 38
        }
      ]
    },
    {
      "cell_type": "code",
      "source": [
        "look_back = 100\n",
        "\n",
        "trainPredictPlot = np.empty_like(df1)\n",
        "trainPredictPlot[:, :] = np.nan\n",
        "trainPredictPlot[look_back:len(train_predict) + look_back, :] = train_predict\n",
        "\n",
        "testPredictPlot = np.empty_like(df1)\n",
        "testPredictPlot[:, :] = np.nan\n",
        "\n",
        "\n",
        "testPredictPlot[len(train_predict)+(look_back*2)+1:len(df1)-1, :] = test_predict\n",
        "\n",
        "plt.plot(scaler.inverse_transform(df1))\n",
        "plt.plot(trainPredictPlot)\n",
        "plt.plot(testPredictPlot)\n",
        "plt.show()\n"
      ],
      "metadata": {
        "colab": {
          "base_uri": "https://localhost:8080/",
          "height": 430
        },
        "id": "5XYZSjiAnAoS",
        "outputId": "0528b91b-9b73-4038-cb82-e7e9e947cc1a"
      },
      "execution_count": 39,
      "outputs": [
        {
          "output_type": "display_data",
          "data": {
            "text/plain": [
              "<Figure size 640x480 with 1 Axes>"
            ],
            "image/png": "[encoded data removed]"
          },
          "metadata": {}
        }
      ]
    },
    {
      "cell_type": "code",
      "source": [
        "len(test_data)"
      ],
      "metadata": {
        "colab": {
          "base_uri": "https://localhost:8080/"
        },
        "id": "_42P05eNnAqw",
        "outputId": "5d53fcc3-d083-4ea4-bc43-da40246e350d"
      },
      "execution_count": 40,
      "outputs": [
        {
          "output_type": "execute_result",
          "data": {
            "text/plain": [
              "1487"
            ]
          },
          "metadata": {},
          "execution_count": 40
        }
      ]
    },
    {
      "cell_type": "code",
      "source": [
        "x_input=test_data[1387:].reshape(1,-1)\n",
        "x_input.shape"
      ],
      "metadata": {
        "colab": {
          "base_uri": "https://localhost:8080/"
        },
        "id": "5XN0FCQhtSxV",
        "outputId": "9b1adacd-94db-426c-a655-fcba36138927"
      },
      "execution_count": 41,
      "outputs": [
        {
          "output_type": "execute_result",
          "data": {
            "text/plain": [
              "(1, 100)"
            ]
          },
          "metadata": {},
          "execution_count": 41
        }
      ]
    },
    {
      "cell_type": "code",
      "source": [
        "temp_input=list(x_input)\n",
        "temp_input=temp_input[0].tolist()"
      ],
      "metadata": {
        "id": "tz1zk0N4tSzq"
      },
      "execution_count": 42,
      "outputs": []
    },
    {
      "cell_type": "code",
      "source": [
        "temp_input"
      ],
      "metadata": {
        "colab": {
          "base_uri": "https://localhost:8080/"
        },
        "id": "h5h0N9BFtS30",
        "outputId": "8304154b-2d40-4664-aac1-cd1249837b61"
      },
      "execution_count": 43,
      "outputs": [
        {
          "output_type": "execute_result",
          "data": {
            "text/plain": [
              "[0.20977386861737643,\n",
              " 0.2143023019536126,\n",
              " 0.21661006124996374,\n",
              " 0.22029667044036114,\n",
              " 0.2221399750355598,\n",
              " 0.22135620772736508,\n",
              " 0.21864205056750557,\n",
              " 0.2199483294144968,\n",
              " 0.21613109233940028,\n",
              " 0.21434584458184563,\n",
              " 0.2133298499230747,\n",
              " 0.221254608261488,\n",
              " 0.22074661093210254,\n",
              " 0.22077563935092454,\n",
              " 0.22257540131789022,\n",
              " 0.22425904960956777,\n",
              " 0.22283665708728848,\n",
              " 0.22047084095329328,\n",
              " 0.22092078144503471,\n",
              " 0.2186565647769166,\n",
              " 0.21864205056750557,\n",
              " 0.2253911579436268,\n",
              " 0.2272344625388255,\n",
              " 0.2271038346541264,\n",
              " 0.22557984266596998,\n",
              " 0.22399779384016952,\n",
              " 0.2215884350779413,\n",
              " 0.2328804899997097,\n",
              " 0.23277889053383263,\n",
              " 0.2302679323057273,\n",
              " 0.23285871868559319,\n",
              " 0.23314174576910798,\n",
              " 0.23142906905860836,\n",
              " 0.2307033585880577,\n",
              " 0.2307033585880577,\n",
              " 0.23160323957154053,\n",
              " 0.23502859299253973,\n",
              " 0.23518824929606083,\n",
              " 0.23379488519260352,\n",
              " 0.22996313390809603,\n",
              " 0.2303695317716044,\n",
              " 0.23203866585387098,\n",
              " 0.2355801329501582,\n",
              " 0.2382942901100177,\n",
              " 0.23822171906296266,\n",
              " 0.24234375453569043,\n",
              " 0.2435919765450376,\n",
              " 0.24160352985572878,\n",
              " 0.24106650410752126,\n",
              " 0.23904902899939037,\n",
              " 0.24304043658741906,\n",
              " 0.2436064907544486,\n",
              " 0.2477140120177654,\n",
              " 0.24701732996603673,\n",
              " 0.24794623936834162,\n",
              " 0.2509361665070104,\n",
              " 0.24935411768120988,\n",
              " 0.24948474556590902,\n",
              " 0.24796075357775263,\n",
              " 0.25237307323870073,\n",
              " 0.2519086185375483,\n",
              " 0.24986211501059538,\n",
              " 0.25391157943626813,\n",
              " 0.2556387703561787,\n",
              " 0.2561322534761532,\n",
              " 0.26248947719817706,\n",
              " 0.26029783157711406,\n",
              " 0.25865772591366953,\n",
              " 0.25935440796539816,\n",
              " 0.25771430230195363,\n",
              " 0.2547098609538739,\n",
              " 0.2539406078550902,\n",
              " 0.25639350924555143,\n",
              " 0.25751110337019945,\n",
              " 0.25772881651136464,\n",
              " 0.2625185056169991,\n",
              " 0.2621411361723127,\n",
              " 0.2641295828616215,\n",
              " 0.2612702836076519,\n",
              " 0.25954309268774134,\n",
              " 0.2607187436500334,\n",
              " 0.2619814798687916,\n",
              " 0.26325873029696073,\n",
              " 0.26140091149235106,\n",
              " 0.26518912014862556,\n",
              " 0.26608900113210837,\n",
              " 0.26486255043687773,\n",
              " 0.26047200209004623,\n",
              " 0.25842549856309327,\n",
              " 0.24510145432378302,\n",
              " 0.2405439925687248,\n",
              " 0.2419228424627711,\n",
              " 0.2395860547475979,\n",
              " 0.23926674214055563,\n",
              " 0.23900548637115734,\n",
              " 0.2414293593427966,\n",
              " 0.2385120032511829,\n",
              " 0.23723475282301373,\n",
              " 0.23350460100438328,\n",
              " 0.23421579726552297]"
            ]
          },
          "metadata": {},
          "execution_count": 43
        }
      ]
    },
    {
      "cell_type": "code",
      "source": [
        "from numpy import array\n",
        "\n",
        "lst_output=[]\n",
        "n_steps=100\n",
        "i=0\n",
        "while(i<30):\n",
        "\n",
        "    if(len(temp_input)>100):\n",
        "        #print(temp_input)\n",
        "        x_input=np.array(temp_input[1:])\n",
        "        print(\"{} day input {}\".format(i,x_input))\n",
        "        x_input=x_input.reshape(1,-1)\n",
        "        x_input = x_input.reshape((1, n_steps, 1))\n",
        "        #print(x_input)\n",
        "        yhat = model.predict(x_input, verbose=0)\n",
        "        print(\"{} day output {}\".format(i,yhat))\n",
        "        temp_input.extend(yhat[0].tolist())\n",
        "        temp_input=temp_input[1:]\n",
        "        #print(temp_input)\n",
        "        lst_output.extend(yhat.tolist())\n",
        "        i=i+1\n",
        "    else:\n",
        "        x_input = x_input.reshape((1, n_steps,1))\n",
        "        yhat = model.predict(x_input, verbose=0)\n",
        "        print(yhat[0])\n",
        "        temp_input.extend(yhat[0].tolist())\n",
        "        print(len(temp_input))\n",
        "        lst_output.extend(yhat.tolist())\n",
        "        i=i+1\n",
        "\n",
        "\n",
        "print(lst_output)"
      ],
      "metadata": {
        "colab": {
          "base_uri": "https://localhost:8080/"
        },
        "id": "wJL5ZE-ItS6Y",
        "outputId": "fa33f38f-cfd9-45e7-91df-957135d8b006"
      },
      "execution_count": 44,
      "outputs": [
        {
          "output_type": "stream",
          "name": "stdout",
          "text": [
            "[0.2357849]\n",
            "101\n",
            "1 day input [0.2143023  0.21661006 0.22029667 0.22213998 0.22135621 0.21864205\n",
            " 0.21994833 0.21613109 0.21434584 0.21332985 0.22125461 0.22074661\n",
            " 0.22077564 0.2225754  0.22425905 0.22283666 0.22047084 0.22092078\n",
            " 0.21865656 0.21864205 0.22539116 0.22723446 0.22710383 0.22557984\n",
            " 0.22399779 0.22158844 0.23288049 0.23277889 0.23026793 0.23285872\n",
            " 0.23314175 0.23142907 0.23070336 0.23070336 0.23160324 0.23502859\n",
            " 0.23518825 0.23379489 0.22996313 0.23036953 0.23203867 0.23558013\n",
            " 0.23829429 0.23822172 0.24234375 0.24359198 0.24160353 0.2410665\n",
            " 0.23904903 0.24304044 0.24360649 0.24771401 0.24701733 0.24794624\n",
            " 0.25093617 0.24935412 0.24948475 0.24796075 0.25237307 0.25190862\n",
            " 0.24986212 0.25391158 0.25563877 0.25613225 0.26248948 0.26029783\n",
            " 0.25865773 0.25935441 0.2577143  0.25470986 0.25394061 0.25639351\n",
            " 0.2575111  0.25772882 0.26251851 0.26214114 0.26412958 0.26127028\n",
            " 0.25954309 0.26071874 0.26198148 0.26325873 0.26140091 0.26518912\n",
            " 0.266089   0.26486255 0.260472   0.2584255  0.24510145 0.24054399\n",
            " 0.24192284 0.23958605 0.23926674 0.23900549 0.24142936 0.238512\n",
            " 0.23723475 0.2335046  0.2342158  0.2357849 ]\n",
            "1 day output [[0.23520546]]\n",
            "2 day input [0.21661006 0.22029667 0.22213998 0.22135621 0.21864205 0.21994833\n",
            " 0.21613109 0.21434584 0.21332985 0.22125461 0.22074661 0.22077564\n",
            " 0.2225754  0.22425905 0.22283666 0.22047084 0.22092078 0.21865656\n",
            " 0.21864205 0.22539116 0.22723446 0.22710383 0.22557984 0.22399779\n",
            " 0.22158844 0.23288049 0.23277889 0.23026793 0.23285872 0.23314175\n",
            " 0.23142907 0.23070336 0.23070336 0.23160324 0.23502859 0.23518825\n",
            " 0.23379489 0.22996313 0.23036953 0.23203867 0.23558013 0.23829429\n",
            " 0.23822172 0.24234375 0.24359198 0.24160353 0.2410665  0.23904903\n",
            " 0.24304044 0.24360649 0.24771401 0.24701733 0.24794624 0.25093617\n",
            " 0.24935412 0.24948475 0.24796075 0.25237307 0.25190862 0.24986212\n",
            " 0.25391158 0.25563877 0.25613225 0.26248948 0.26029783 0.25865773\n",
            " 0.25935441 0.2577143  0.25470986 0.25394061 0.25639351 0.2575111\n",
            " 0.25772882 0.26251851 0.26214114 0.26412958 0.26127028 0.25954309\n",
            " 0.26071874 0.26198148 0.26325873 0.26140091 0.26518912 0.266089\n",
            " 0.26486255 0.260472   0.2584255  0.24510145 0.24054399 0.24192284\n",
            " 0.23958605 0.23926674 0.23900549 0.24142936 0.238512   0.23723475\n",
            " 0.2335046  0.2342158  0.2357849  0.23520546]\n",
            "2 day output [[0.23505446]]\n",
            "3 day input [0.22029667 0.22213998 0.22135621 0.21864205 0.21994833 0.21613109\n",
            " 0.21434584 0.21332985 0.22125461 0.22074661 0.22077564 0.2225754\n",
            " 0.22425905 0.22283666 0.22047084 0.22092078 0.21865656 0.21864205\n",
            " 0.22539116 0.22723446 0.22710383 0.22557984 0.22399779 0.22158844\n",
            " 0.23288049 0.23277889 0.23026793 0.23285872 0.23314175 0.23142907\n",
            " 0.23070336 0.23070336 0.23160324 0.23502859 0.23518825 0.23379489\n",
            " 0.22996313 0.23036953 0.23203867 0.23558013 0.23829429 0.23822172\n",
            " 0.24234375 0.24359198 0.24160353 0.2410665  0.23904903 0.24304044\n",
            " 0.24360649 0.24771401 0.24701733 0.24794624 0.25093617 0.24935412\n",
            " 0.24948475 0.24796075 0.25237307 0.25190862 0.24986212 0.25391158\n",
            " 0.25563877 0.25613225 0.26248948 0.26029783 0.25865773 0.25935441\n",
            " 0.2577143  0.25470986 0.25394061 0.25639351 0.2575111  0.25772882\n",
            " 0.26251851 0.26214114 0.26412958 0.26127028 0.25954309 0.26071874\n",
            " 0.26198148 0.26325873 0.26140091 0.26518912 0.266089   0.26486255\n",
            " 0.260472   0.2584255  0.24510145 0.24054399 0.24192284 0.23958605\n",
            " 0.23926674 0.23900549 0.24142936 0.238512   0.23723475 0.2335046\n",
            " 0.2342158  0.2357849  0.23520546 0.23505446]\n",
            "3 day output [[0.23503137]]\n",
            "4 day input [0.22213998 0.22135621 0.21864205 0.21994833 0.21613109 0.21434584\n",
            " 0.21332985 0.22125461 0.22074661 0.22077564 0.2225754  0.22425905\n",
            " 0.22283666 0.22047084 0.22092078 0.21865656 0.21864205 0.22539116\n",
            " 0.22723446 0.22710383 0.22557984 0.22399779 0.22158844 0.23288049\n",
            " 0.23277889 0.23026793 0.23285872 0.23314175 0.23142907 0.23070336\n",
            " 0.23070336 0.23160324 0.23502859 0.23518825 0.23379489 0.22996313\n",
            " 0.23036953 0.23203867 0.23558013 0.23829429 0.23822172 0.24234375\n",
            " 0.24359198 0.24160353 0.2410665  0.23904903 0.24304044 0.24360649\n",
            " 0.24771401 0.24701733 0.24794624 0.25093617 0.24935412 0.24948475\n",
            " 0.24796075 0.25237307 0.25190862 0.24986212 0.25391158 0.25563877\n",
            " 0.25613225 0.26248948 0.26029783 0.25865773 0.25935441 0.2577143\n",
            " 0.25470986 0.25394061 0.25639351 0.2575111  0.25772882 0.26251851\n",
            " 0.26214114 0.26412958 0.26127028 0.25954309 0.26071874 0.26198148\n",
            " 0.26325873 0.26140091 0.26518912 0.266089   0.26486255 0.260472\n",
            " 0.2584255  0.24510145 0.24054399 0.24192284 0.23958605 0.23926674\n",
            " 0.23900549 0.24142936 0.238512   0.23723475 0.2335046  0.2342158\n",
            " 0.2357849  0.23520546 0.23505446 0.23503137]\n",
            "4 day output [[0.23503086]]\n",
            "5 day input [0.22135621 0.21864205 0.21994833 0.21613109 0.21434584 0.21332985\n",
            " 0.22125461 0.22074661 0.22077564 0.2225754  0.22425905 0.22283666\n",
            " 0.22047084 0.22092078 0.21865656 0.21864205 0.22539116 0.22723446\n",
            " 0.22710383 0.22557984 0.22399779 0.22158844 0.23288049 0.23277889\n",
            " 0.23026793 0.23285872 0.23314175 0.23142907 0.23070336 0.23070336\n",
            " 0.23160324 0.23502859 0.23518825 0.23379489 0.22996313 0.23036953\n",
            " 0.23203867 0.23558013 0.23829429 0.23822172 0.24234375 0.24359198\n",
            " 0.24160353 0.2410665  0.23904903 0.24304044 0.24360649 0.24771401\n",
            " 0.24701733 0.24794624 0.25093617 0.24935412 0.24948475 0.24796075\n",
            " 0.25237307 0.25190862 0.24986212 0.25391158 0.25563877 0.25613225\n",
            " 0.26248948 0.26029783 0.25865773 0.25935441 0.2577143  0.25470986\n",
            " 0.25394061 0.25639351 0.2575111  0.25772882 0.26251851 0.26214114\n",
            " 0.26412958 0.26127028 0.25954309 0.26071874 0.26198148 0.26325873\n",
            " 0.26140091 0.26518912 0.266089   0.26486255 0.260472   0.2584255\n",
            " 0.24510145 0.24054399 0.24192284 0.23958605 0.23926674 0.23900549\n",
            " 0.24142936 0.238512   0.23723475 0.2335046  0.2342158  0.2357849\n",
            " 0.23520546 0.23505446 0.23503137 0.23503086]\n",
            "5 day output [[0.23502487]]\n",
            "6 day input [0.21864205 0.21994833 0.21613109 0.21434584 0.21332985 0.22125461\n",
            " 0.22074661 0.22077564 0.2225754  0.22425905 0.22283666 0.22047084\n",
            " 0.22092078 0.21865656 0.21864205 0.22539116 0.22723446 0.22710383\n",
            " 0.22557984 0.22399779 0.22158844 0.23288049 0.23277889 0.23026793\n",
            " 0.23285872 0.23314175 0.23142907 0.23070336 0.23070336 0.23160324\n",
            " 0.23502859 0.23518825 0.23379489 0.22996313 0.23036953 0.23203867\n",
            " 0.23558013 0.23829429 0.23822172 0.24234375 0.24359198 0.24160353\n",
            " 0.2410665  0.23904903 0.24304044 0.24360649 0.24771401 0.24701733\n",
            " 0.24794624 0.25093617 0.24935412 0.24948475 0.24796075 0.25237307\n",
            " 0.25190862 0.24986212 0.25391158 0.25563877 0.25613225 0.26248948\n",
            " 0.26029783 0.25865773 0.25935441 0.2577143  0.25470986 0.25394061\n",
            " 0.25639351 0.2575111  0.25772882 0.26251851 0.26214114 0.26412958\n",
            " 0.26127028 0.25954309 0.26071874 0.26198148 0.26325873 0.26140091\n",
            " 0.26518912 0.266089   0.26486255 0.260472   0.2584255  0.24510145\n",
            " 0.24054399 0.24192284 0.23958605 0.23926674 0.23900549 0.24142936\n",
            " 0.238512   0.23723475 0.2335046  0.2342158  0.2357849  0.23520546\n",
            " 0.23505446 0.23503137 0.23503086 0.23502487]\n",
            "6 day output [[0.23500738]]\n",
            "7 day input [0.21994833 0.21613109 0.21434584 0.21332985 0.22125461 0.22074661\n",
            " 0.22077564 0.2225754  0.22425905 0.22283666 0.22047084 0.22092078\n",
            " 0.21865656 0.21864205 0.22539116 0.22723446 0.22710383 0.22557984\n",
            " 0.22399779 0.22158844 0.23288049 0.23277889 0.23026793 0.23285872\n",
            " 0.23314175 0.23142907 0.23070336 0.23070336 0.23160324 0.23502859\n",
            " 0.23518825 0.23379489 0.22996313 0.23036953 0.23203867 0.23558013\n",
            " 0.23829429 0.23822172 0.24234375 0.24359198 0.24160353 0.2410665\n",
            " 0.23904903 0.24304044 0.24360649 0.24771401 0.24701733 0.24794624\n",
            " 0.25093617 0.24935412 0.24948475 0.24796075 0.25237307 0.25190862\n",
            " 0.24986212 0.25391158 0.25563877 0.25613225 0.26248948 0.26029783\n",
            " 0.25865773 0.25935441 0.2577143  0.25470986 0.25394061 0.25639351\n",
            " 0.2575111  0.25772882 0.26251851 0.26214114 0.26412958 0.26127028\n",
            " 0.25954309 0.26071874 0.26198148 0.26325873 0.26140091 0.26518912\n",
            " 0.266089   0.26486255 0.260472   0.2584255  0.24510145 0.24054399\n",
            " 0.24192284 0.23958605 0.23926674 0.23900549 0.24142936 0.238512\n",
            " 0.23723475 0.2335046  0.2342158  0.2357849  0.23520546 0.23505446\n",
            " 0.23503137 0.23503086 0.23502487 0.23500738]\n",
            "7 day output [[0.23497742]]\n",
            "8 day input [0.21613109 0.21434584 0.21332985 0.22125461 0.22074661 0.22077564\n",
            " 0.2225754  0.22425905 0.22283666 0.22047084 0.22092078 0.21865656\n",
            " 0.21864205 0.22539116 0.22723446 0.22710383 0.22557984 0.22399779\n",
            " 0.22158844 0.23288049 0.23277889 0.23026793 0.23285872 0.23314175\n",
            " 0.23142907 0.23070336 0.23070336 0.23160324 0.23502859 0.23518825\n",
            " 0.23379489 0.22996313 0.23036953 0.23203867 0.23558013 0.23829429\n",
            " 0.23822172 0.24234375 0.24359198 0.24160353 0.2410665  0.23904903\n",
            " 0.24304044 0.24360649 0.24771401 0.24701733 0.24794624 0.25093617\n",
            " 0.24935412 0.24948475 0.24796075 0.25237307 0.25190862 0.24986212\n",
            " 0.25391158 0.25563877 0.25613225 0.26248948 0.26029783 0.25865773\n",
            " 0.25935441 0.2577143  0.25470986 0.25394061 0.25639351 0.2575111\n",
            " 0.25772882 0.26251851 0.26214114 0.26412958 0.26127028 0.25954309\n",
            " 0.26071874 0.26198148 0.26325873 0.26140091 0.26518912 0.266089\n",
            " 0.26486255 0.260472   0.2584255  0.24510145 0.24054399 0.24192284\n",
            " 0.23958605 0.23926674 0.23900549 0.24142936 0.238512   0.23723475\n",
            " 0.2335046  0.2342158  0.2357849  0.23520546 0.23505446 0.23503137\n",
            " 0.23503086 0.23502487 0.23500738 0.23497742]\n",
            "8 day output [[0.23493546]]\n",
            "9 day input [0.21434584 0.21332985 0.22125461 0.22074661 0.22077564 0.2225754\n",
            " 0.22425905 0.22283666 0.22047084 0.22092078 0.21865656 0.21864205\n",
            " 0.22539116 0.22723446 0.22710383 0.22557984 0.22399779 0.22158844\n",
            " 0.23288049 0.23277889 0.23026793 0.23285872 0.23314175 0.23142907\n",
            " 0.23070336 0.23070336 0.23160324 0.23502859 0.23518825 0.23379489\n",
            " 0.22996313 0.23036953 0.23203867 0.23558013 0.23829429 0.23822172\n",
            " 0.24234375 0.24359198 0.24160353 0.2410665  0.23904903 0.24304044\n",
            " 0.24360649 0.24771401 0.24701733 0.24794624 0.25093617 0.24935412\n",
            " 0.24948475 0.24796075 0.25237307 0.25190862 0.24986212 0.25391158\n",
            " 0.25563877 0.25613225 0.26248948 0.26029783 0.25865773 0.25935441\n",
            " 0.2577143  0.25470986 0.25394061 0.25639351 0.2575111  0.25772882\n",
            " 0.26251851 0.26214114 0.26412958 0.26127028 0.25954309 0.26071874\n",
            " 0.26198148 0.26325873 0.26140091 0.26518912 0.266089   0.26486255\n",
            " 0.260472   0.2584255  0.24510145 0.24054399 0.24192284 0.23958605\n",
            " 0.23926674 0.23900549 0.24142936 0.238512   0.23723475 0.2335046\n",
            " 0.2342158  0.2357849  0.23520546 0.23505446 0.23503137 0.23503086\n",
            " 0.23502487 0.23500738 0.23497742 0.23493546]\n",
            "9 day output [[0.23488247]]\n",
            "10 day input [0.21332985 0.22125461 0.22074661 0.22077564 0.2225754  0.22425905\n",
            " 0.22283666 0.22047084 0.22092078 0.21865656 0.21864205 0.22539116\n",
            " 0.22723446 0.22710383 0.22557984 0.22399779 0.22158844 0.23288049\n",
            " 0.23277889 0.23026793 0.23285872 0.23314175 0.23142907 0.23070336\n",
            " 0.23070336 0.23160324 0.23502859 0.23518825 0.23379489 0.22996313\n",
            " 0.23036953 0.23203867 0.23558013 0.23829429 0.23822172 0.24234375\n",
            " 0.24359198 0.24160353 0.2410665  0.23904903 0.24304044 0.24360649\n",
            " 0.24771401 0.24701733 0.24794624 0.25093617 0.24935412 0.24948475\n",
            " 0.24796075 0.25237307 0.25190862 0.24986212 0.25391158 0.25563877\n",
            " 0.25613225 0.26248948 0.26029783 0.25865773 0.25935441 0.2577143\n",
            " 0.25470986 0.25394061 0.25639351 0.2575111  0.25772882 0.26251851\n",
            " 0.26214114 0.26412958 0.26127028 0.25954309 0.26071874 0.26198148\n",
            " 0.26325873 0.26140091 0.26518912 0.266089   0.26486255 0.260472\n",
            " 0.2584255  0.24510145 0.24054399 0.24192284 0.23958605 0.23926674\n",
            " 0.23900549 0.24142936 0.238512   0.23723475 0.2335046  0.2342158\n",
            " 0.2357849  0.23520546 0.23505446 0.23503137 0.23503086 0.23502487\n",
            " 0.23500738 0.23497742 0.23493546 0.23488247]\n",
            "10 day output [[0.23481986]]\n",
            "11 day input [0.22125461 0.22074661 0.22077564 0.2225754  0.22425905 0.22283666\n",
            " 0.22047084 0.22092078 0.21865656 0.21864205 0.22539116 0.22723446\n",
            " 0.22710383 0.22557984 0.22399779 0.22158844 0.23288049 0.23277889\n",
            " 0.23026793 0.23285872 0.23314175 0.23142907 0.23070336 0.23070336\n",
            " 0.23160324 0.23502859 0.23518825 0.23379489 0.22996313 0.23036953\n",
            " 0.23203867 0.23558013 0.23829429 0.23822172 0.24234375 0.24359198\n",
            " 0.24160353 0.2410665  0.23904903 0.24304044 0.24360649 0.24771401\n",
            " 0.24701733 0.24794624 0.25093617 0.24935412 0.24948475 0.24796075\n",
            " 0.25237307 0.25190862 0.24986212 0.25391158 0.25563877 0.25613225\n",
            " 0.26248948 0.26029783 0.25865773 0.25935441 0.2577143  0.25470986\n",
            " 0.25394061 0.25639351 0.2575111  0.25772882 0.26251851 0.26214114\n",
            " 0.26412958 0.26127028 0.25954309 0.26071874 0.26198148 0.26325873\n",
            " 0.26140091 0.26518912 0.266089   0.26486255 0.260472   0.2584255\n",
            " 0.24510145 0.24054399 0.24192284 0.23958605 0.23926674 0.23900549\n",
            " 0.24142936 0.238512   0.23723475 0.2335046  0.2342158  0.2357849\n",
            " 0.23520546 0.23505446 0.23503137 0.23503086 0.23502487 0.23500738\n",
            " 0.23497742 0.23493546 0.23488247 0.23481986]\n",
            "11 day output [[0.23474915]]\n",
            "12 day input [0.22074661 0.22077564 0.2225754  0.22425905 0.22283666 0.22047084\n",
            " 0.22092078 0.21865656 0.21864205 0.22539116 0.22723446 0.22710383\n",
            " 0.22557984 0.22399779 0.22158844 0.23288049 0.23277889 0.23026793\n",
            " 0.23285872 0.23314175 0.23142907 0.23070336 0.23070336 0.23160324\n",
            " 0.23502859 0.23518825 0.23379489 0.22996313 0.23036953 0.23203867\n",
            " 0.23558013 0.23829429 0.23822172 0.24234375 0.24359198 0.24160353\n",
            " 0.2410665  0.23904903 0.24304044 0.24360649 0.24771401 0.24701733\n",
            " 0.24794624 0.25093617 0.24935412 0.24948475 0.24796075 0.25237307\n",
            " 0.25190862 0.24986212 0.25391158 0.25563877 0.25613225 0.26248948\n",
            " 0.26029783 0.25865773 0.25935441 0.2577143  0.25470986 0.25394061\n",
            " 0.25639351 0.2575111  0.25772882 0.26251851 0.26214114 0.26412958\n",
            " 0.26127028 0.25954309 0.26071874 0.26198148 0.26325873 0.26140091\n",
            " 0.26518912 0.266089   0.26486255 0.260472   0.2584255  0.24510145\n",
            " 0.24054399 0.24192284 0.23958605 0.23926674 0.23900549 0.24142936\n",
            " 0.238512   0.23723475 0.2335046  0.2342158  0.2357849  0.23520546\n",
            " 0.23505446 0.23503137 0.23503086 0.23502487 0.23500738 0.23497742\n",
            " 0.23493546 0.23488247 0.23481986 0.23474915]\n",
            "12 day output [[0.23467168]]\n",
            "13 day input [0.22077564 0.2225754  0.22425905 0.22283666 0.22047084 0.22092078\n",
            " 0.21865656 0.21864205 0.22539116 0.22723446 0.22710383 0.22557984\n",
            " 0.22399779 0.22158844 0.23288049 0.23277889 0.23026793 0.23285872\n",
            " 0.23314175 0.23142907 0.23070336 0.23070336 0.23160324 0.23502859\n",
            " 0.23518825 0.23379489 0.22996313 0.23036953 0.23203867 0.23558013\n",
            " 0.23829429 0.23822172 0.24234375 0.24359198 0.24160353 0.2410665\n",
            " 0.23904903 0.24304044 0.24360649 0.24771401 0.24701733 0.24794624\n",
            " 0.25093617 0.24935412 0.24948475 0.24796075 0.25237307 0.25190862\n",
            " 0.24986212 0.25391158 0.25563877 0.25613225 0.26248948 0.26029783\n",
            " 0.25865773 0.25935441 0.2577143  0.25470986 0.25394061 0.25639351\n",
            " 0.2575111  0.25772882 0.26251851 0.26214114 0.26412958 0.26127028\n",
            " 0.25954309 0.26071874 0.26198148 0.26325873 0.26140091 0.26518912\n",
            " 0.266089   0.26486255 0.260472   0.2584255  0.24510145 0.24054399\n",
            " 0.24192284 0.23958605 0.23926674 0.23900549 0.24142936 0.238512\n",
            " 0.23723475 0.2335046  0.2342158  0.2357849  0.23520546 0.23505446\n",
            " 0.23503137 0.23503086 0.23502487 0.23500738 0.23497742 0.23493546\n",
            " 0.23488247 0.23481986 0.23474915 0.23467168]\n",
            "13 day output [[0.2345885]]\n",
            "14 day input [0.2225754  0.22425905 0.22283666 0.22047084 0.22092078 0.21865656\n",
            " 0.21864205 0.22539116 0.22723446 0.22710383 0.22557984 0.22399779\n",
            " 0.22158844 0.23288049 0.23277889 0.23026793 0.23285872 0.23314175\n",
            " 0.23142907 0.23070336 0.23070336 0.23160324 0.23502859 0.23518825\n",
            " 0.23379489 0.22996313 0.23036953 0.23203867 0.23558013 0.23829429\n",
            " 0.23822172 0.24234375 0.24359198 0.24160353 0.2410665  0.23904903\n",
            " 0.24304044 0.24360649 0.24771401 0.24701733 0.24794624 0.25093617\n",
            " 0.24935412 0.24948475 0.24796075 0.25237307 0.25190862 0.24986212\n",
            " 0.25391158 0.25563877 0.25613225 0.26248948 0.26029783 0.25865773\n",
            " 0.25935441 0.2577143  0.25470986 0.25394061 0.25639351 0.2575111\n",
            " 0.25772882 0.26251851 0.26214114 0.26412958 0.26127028 0.25954309\n",
            " 0.26071874 0.26198148 0.26325873 0.26140091 0.26518912 0.266089\n",
            " 0.26486255 0.260472   0.2584255  0.24510145 0.24054399 0.24192284\n",
            " 0.23958605 0.23926674 0.23900549 0.24142936 0.238512   0.23723475\n",
            " 0.2335046  0.2342158  0.2357849  0.23520546 0.23505446 0.23503137\n",
            " 0.23503086 0.23502487 0.23500738 0.23497742 0.23493546 0.23488247\n",
            " 0.23481986 0.23474915 0.23467168 0.2345885 ]\n",
            "14 day output [[0.2345004]]\n",
            "15 day input [0.22425905 0.22283666 0.22047084 0.22092078 0.21865656 0.21864205\n",
            " 0.22539116 0.22723446 0.22710383 0.22557984 0.22399779 0.22158844\n",
            " 0.23288049 0.23277889 0.23026793 0.23285872 0.23314175 0.23142907\n",
            " 0.23070336 0.23070336 0.23160324 0.23502859 0.23518825 0.23379489\n",
            " 0.22996313 0.23036953 0.23203867 0.23558013 0.23829429 0.23822172\n",
            " 0.24234375 0.24359198 0.24160353 0.2410665  0.23904903 0.24304044\n",
            " 0.24360649 0.24771401 0.24701733 0.24794624 0.25093617 0.24935412\n",
            " 0.24948475 0.24796075 0.25237307 0.25190862 0.24986212 0.25391158\n",
            " 0.25563877 0.25613225 0.26248948 0.26029783 0.25865773 0.25935441\n",
            " 0.2577143  0.25470986 0.25394061 0.25639351 0.2575111  0.25772882\n",
            " 0.26251851 0.26214114 0.26412958 0.26127028 0.25954309 0.26071874\n",
            " 0.26198148 0.26325873 0.26140091 0.26518912 0.266089   0.26486255\n",
            " 0.260472   0.2584255  0.24510145 0.24054399 0.24192284 0.23958605\n",
            " 0.23926674 0.23900549 0.24142936 0.238512   0.23723475 0.2335046\n",
            " 0.2342158  0.2357849  0.23520546 0.23505446 0.23503137 0.23503086\n",
            " 0.23502487 0.23500738 0.23497742 0.23493546 0.23488247 0.23481986\n",
            " 0.23474915 0.23467168 0.2345885  0.23450039]\n",
            "15 day output [[0.23440789]]\n",
            "16 day input [0.22283666 0.22047084 0.22092078 0.21865656 0.21864205 0.22539116\n",
            " 0.22723446 0.22710383 0.22557984 0.22399779 0.22158844 0.23288049\n",
            " 0.23277889 0.23026793 0.23285872 0.23314175 0.23142907 0.23070336\n",
            " 0.23070336 0.23160324 0.23502859 0.23518825 0.23379489 0.22996313\n",
            " 0.23036953 0.23203867 0.23558013 0.23829429 0.23822172 0.24234375\n",
            " 0.24359198 0.24160353 0.2410665  0.23904903 0.24304044 0.24360649\n",
            " 0.24771401 0.24701733 0.24794624 0.25093617 0.24935412 0.24948475\n",
            " 0.24796075 0.25237307 0.25190862 0.24986212 0.25391158 0.25563877\n",
            " 0.25613225 0.26248948 0.26029783 0.25865773 0.25935441 0.2577143\n",
            " 0.25470986 0.25394061 0.25639351 0.2575111  0.25772882 0.26251851\n",
            " 0.26214114 0.26412958 0.26127028 0.25954309 0.26071874 0.26198148\n",
            " 0.26325873 0.26140091 0.26518912 0.266089   0.26486255 0.260472\n",
            " 0.2584255  0.24510145 0.24054399 0.24192284 0.23958605 0.23926674\n",
            " 0.23900549 0.24142936 0.238512   0.23723475 0.2335046  0.2342158\n",
            " 0.2357849  0.23520546 0.23505446 0.23503137 0.23503086 0.23502487\n",
            " 0.23500738 0.23497742 0.23493546 0.23488247 0.23481986 0.23474915\n",
            " 0.23467168 0.2345885  0.23450039 0.23440789]\n",
            "16 day output [[0.2343111]]\n",
            "17 day input [0.22047084 0.22092078 0.21865656 0.21864205 0.22539116 0.22723446\n",
            " 0.22710383 0.22557984 0.22399779 0.22158844 0.23288049 0.23277889\n",
            " 0.23026793 0.23285872 0.23314175 0.23142907 0.23070336 0.23070336\n",
            " 0.23160324 0.23502859 0.23518825 0.23379489 0.22996313 0.23036953\n",
            " 0.23203867 0.23558013 0.23829429 0.23822172 0.24234375 0.24359198\n",
            " 0.24160353 0.2410665  0.23904903 0.24304044 0.24360649 0.24771401\n",
            " 0.24701733 0.24794624 0.25093617 0.24935412 0.24948475 0.24796075\n",
            " 0.25237307 0.25190862 0.24986212 0.25391158 0.25563877 0.25613225\n",
            " 0.26248948 0.26029783 0.25865773 0.25935441 0.2577143  0.25470986\n",
            " 0.25394061 0.25639351 0.2575111  0.25772882 0.26251851 0.26214114\n",
            " 0.26412958 0.26127028 0.25954309 0.26071874 0.26198148 0.26325873\n",
            " 0.26140091 0.26518912 0.266089   0.26486255 0.260472   0.2584255\n",
            " 0.24510145 0.24054399 0.24192284 0.23958605 0.23926674 0.23900549\n",
            " 0.24142936 0.238512   0.23723475 0.2335046  0.2342158  0.2357849\n",
            " 0.23520546 0.23505446 0.23503137 0.23503086 0.23502487 0.23500738\n",
            " 0.23497742 0.23493546 0.23488247 0.23481986 0.23474915 0.23467168\n",
            " 0.2345885  0.23450039 0.23440789 0.2343111 ]\n",
            "17 day output [[0.23421021]]\n",
            "18 day input [0.22092078 0.21865656 0.21864205 0.22539116 0.22723446 0.22710383\n",
            " 0.22557984 0.22399779 0.22158844 0.23288049 0.23277889 0.23026793\n",
            " 0.23285872 0.23314175 0.23142907 0.23070336 0.23070336 0.23160324\n",
            " 0.23502859 0.23518825 0.23379489 0.22996313 0.23036953 0.23203867\n",
            " 0.23558013 0.23829429 0.23822172 0.24234375 0.24359198 0.24160353\n",
            " 0.2410665  0.23904903 0.24304044 0.24360649 0.24771401 0.24701733\n",
            " 0.24794624 0.25093617 0.24935412 0.24948475 0.24796075 0.25237307\n",
            " 0.25190862 0.24986212 0.25391158 0.25563877 0.25613225 0.26248948\n",
            " 0.26029783 0.25865773 0.25935441 0.2577143  0.25470986 0.25394061\n",
            " 0.25639351 0.2575111  0.25772882 0.26251851 0.26214114 0.26412958\n",
            " 0.26127028 0.25954309 0.26071874 0.26198148 0.26325873 0.26140091\n",
            " 0.26518912 0.266089   0.26486255 0.260472   0.2584255  0.24510145\n",
            " 0.24054399 0.24192284 0.23958605 0.23926674 0.23900549 0.24142936\n",
            " 0.238512   0.23723475 0.2335046  0.2342158  0.2357849  0.23520546\n",
            " 0.23505446 0.23503137 0.23503086 0.23502487 0.23500738 0.23497742\n",
            " 0.23493546 0.23488247 0.23481986 0.23474915 0.23467168 0.2345885\n",
            " 0.23450039 0.23440789 0.2343111  0.23421021]\n",
            "18 day output [[0.23410508]]\n",
            "19 day input [0.21865656 0.21864205 0.22539116 0.22723446 0.22710383 0.22557984\n",
            " 0.22399779 0.22158844 0.23288049 0.23277889 0.23026793 0.23285872\n",
            " 0.23314175 0.23142907 0.23070336 0.23070336 0.23160324 0.23502859\n",
            " 0.23518825 0.23379489 0.22996313 0.23036953 0.23203867 0.23558013\n",
            " 0.23829429 0.23822172 0.24234375 0.24359198 0.24160353 0.2410665\n",
            " 0.23904903 0.24304044 0.24360649 0.24771401 0.24701733 0.24794624\n",
            " 0.25093617 0.24935412 0.24948475 0.24796075 0.25237307 0.25190862\n",
            " 0.24986212 0.25391158 0.25563877 0.25613225 0.26248948 0.26029783\n",
            " 0.25865773 0.25935441 0.2577143  0.25470986 0.25394061 0.25639351\n",
            " 0.2575111  0.25772882 0.26251851 0.26214114 0.26412958 0.26127028\n",
            " 0.25954309 0.26071874 0.26198148 0.26325873 0.26140091 0.26518912\n",
            " 0.266089   0.26486255 0.260472   0.2584255  0.24510145 0.24054399\n",
            " 0.24192284 0.23958605 0.23926674 0.23900549 0.24142936 0.238512\n",
            " 0.23723475 0.2335046  0.2342158  0.2357849  0.23520546 0.23505446\n",
            " 0.23503137 0.23503086 0.23502487 0.23500738 0.23497742 0.23493546\n",
            " 0.23488247 0.23481986 0.23474915 0.23467168 0.2345885  0.23450039\n",
            " 0.23440789 0.2343111  0.23421021 0.23410508]\n",
            "19 day output [[0.2339957]]\n",
            "20 day input [0.21864205 0.22539116 0.22723446 0.22710383 0.22557984 0.22399779\n",
            " 0.22158844 0.23288049 0.23277889 0.23026793 0.23285872 0.23314175\n",
            " 0.23142907 0.23070336 0.23070336 0.23160324 0.23502859 0.23518825\n",
            " 0.23379489 0.22996313 0.23036953 0.23203867 0.23558013 0.23829429\n",
            " 0.23822172 0.24234375 0.24359198 0.24160353 0.2410665  0.23904903\n",
            " 0.24304044 0.24360649 0.24771401 0.24701733 0.24794624 0.25093617\n",
            " 0.24935412 0.24948475 0.24796075 0.25237307 0.25190862 0.24986212\n",
            " 0.25391158 0.25563877 0.25613225 0.26248948 0.26029783 0.25865773\n",
            " 0.25935441 0.2577143  0.25470986 0.25394061 0.25639351 0.2575111\n",
            " 0.25772882 0.26251851 0.26214114 0.26412958 0.26127028 0.25954309\n",
            " 0.26071874 0.26198148 0.26325873 0.26140091 0.26518912 0.266089\n",
            " 0.26486255 0.260472   0.2584255  0.24510145 0.24054399 0.24192284\n",
            " 0.23958605 0.23926674 0.23900549 0.24142936 0.238512   0.23723475\n",
            " 0.2335046  0.2342158  0.2357849  0.23520546 0.23505446 0.23503137\n",
            " 0.23503086 0.23502487 0.23500738 0.23497742 0.23493546 0.23488247\n",
            " 0.23481986 0.23474915 0.23467168 0.2345885  0.23450039 0.23440789\n",
            " 0.2343111  0.23421021 0.23410508 0.23399571]\n",
            "20 day output [[0.23388207]]\n",
            "21 day input [0.22539116 0.22723446 0.22710383 0.22557984 0.22399779 0.22158844\n",
            " 0.23288049 0.23277889 0.23026793 0.23285872 0.23314175 0.23142907\n",
            " 0.23070336 0.23070336 0.23160324 0.23502859 0.23518825 0.23379489\n",
            " 0.22996313 0.23036953 0.23203867 0.23558013 0.23829429 0.23822172\n",
            " 0.24234375 0.24359198 0.24160353 0.2410665  0.23904903 0.24304044\n",
            " 0.24360649 0.24771401 0.24701733 0.24794624 0.25093617 0.24935412\n",
            " 0.24948475 0.24796075 0.25237307 0.25190862 0.24986212 0.25391158\n",
            " 0.25563877 0.25613225 0.26248948 0.26029783 0.25865773 0.25935441\n",
            " 0.2577143  0.25470986 0.25394061 0.25639351 0.2575111  0.25772882\n",
            " 0.26251851 0.26214114 0.26412958 0.26127028 0.25954309 0.26071874\n",
            " 0.26198148 0.26325873 0.26140091 0.26518912 0.266089   0.26486255\n",
            " 0.260472   0.2584255  0.24510145 0.24054399 0.24192284 0.23958605\n",
            " 0.23926674 0.23900549 0.24142936 0.238512   0.23723475 0.2335046\n",
            " 0.2342158  0.2357849  0.23520546 0.23505446 0.23503137 0.23503086\n",
            " 0.23502487 0.23500738 0.23497742 0.23493546 0.23488247 0.23481986\n",
            " 0.23474915 0.23467168 0.2345885  0.23450039 0.23440789 0.2343111\n",
            " 0.23421021 0.23410508 0.23399571 0.23388207]\n",
            "21 day output [[0.23376414]]\n",
            "22 day input [0.22723446 0.22710383 0.22557984 0.22399779 0.22158844 0.23288049\n",
            " 0.23277889 0.23026793 0.23285872 0.23314175 0.23142907 0.23070336\n",
            " 0.23070336 0.23160324 0.23502859 0.23518825 0.23379489 0.22996313\n",
            " 0.23036953 0.23203867 0.23558013 0.23829429 0.23822172 0.24234375\n",
            " 0.24359198 0.24160353 0.2410665  0.23904903 0.24304044 0.24360649\n",
            " 0.24771401 0.24701733 0.24794624 0.25093617 0.24935412 0.24948475\n",
            " 0.24796075 0.25237307 0.25190862 0.24986212 0.25391158 0.25563877\n",
            " 0.25613225 0.26248948 0.26029783 0.25865773 0.25935441 0.2577143\n",
            " 0.25470986 0.25394061 0.25639351 0.2575111  0.25772882 0.26251851\n",
            " 0.26214114 0.26412958 0.26127028 0.25954309 0.26071874 0.26198148\n",
            " 0.26325873 0.26140091 0.26518912 0.266089   0.26486255 0.260472\n",
            " 0.2584255  0.24510145 0.24054399 0.24192284 0.23958605 0.23926674\n",
            " 0.23900549 0.24142936 0.238512   0.23723475 0.2335046  0.2342158\n",
            " 0.2357849  0.23520546 0.23505446 0.23503137 0.23503086 0.23502487\n",
            " 0.23500738 0.23497742 0.23493546 0.23488247 0.23481986 0.23474915\n",
            " 0.23467168 0.2345885  0.23450039 0.23440789 0.2343111  0.23421021\n",
            " 0.23410508 0.23399571 0.23388207 0.23376414]\n",
            "22 day output [[0.23364213]]\n",
            "23 day input [0.22710383 0.22557984 0.22399779 0.22158844 0.23288049 0.23277889\n",
            " 0.23026793 0.23285872 0.23314175 0.23142907 0.23070336 0.23070336\n",
            " 0.23160324 0.23502859 0.23518825 0.23379489 0.22996313 0.23036953\n",
            " 0.23203867 0.23558013 0.23829429 0.23822172 0.24234375 0.24359198\n",
            " 0.24160353 0.2410665  0.23904903 0.24304044 0.24360649 0.24771401\n",
            " 0.24701733 0.24794624 0.25093617 0.24935412 0.24948475 0.24796075\n",
            " 0.25237307 0.25190862 0.24986212 0.25391158 0.25563877 0.25613225\n",
            " 0.26248948 0.26029783 0.25865773 0.25935441 0.2577143  0.25470986\n",
            " 0.25394061 0.25639351 0.2575111  0.25772882 0.26251851 0.26214114\n",
            " 0.26412958 0.26127028 0.25954309 0.26071874 0.26198148 0.26325873\n",
            " 0.26140091 0.26518912 0.266089   0.26486255 0.260472   0.2584255\n",
            " 0.24510145 0.24054399 0.24192284 0.23958605 0.23926674 0.23900549\n",
            " 0.24142936 0.238512   0.23723475 0.2335046  0.2342158  0.2357849\n",
            " 0.23520546 0.23505446 0.23503137 0.23503086 0.23502487 0.23500738\n",
            " 0.23497742 0.23493546 0.23488247 0.23481986 0.23474915 0.23467168\n",
            " 0.2345885  0.23450039 0.23440789 0.2343111  0.23421021 0.23410508\n",
            " 0.23399571 0.23388207 0.23376414 0.23364213]\n",
            "23 day output [[0.23351616]]\n",
            "24 day input [0.22557984 0.22399779 0.22158844 0.23288049 0.23277889 0.23026793\n",
            " 0.23285872 0.23314175 0.23142907 0.23070336 0.23070336 0.23160324\n",
            " 0.23502859 0.23518825 0.23379489 0.22996313 0.23036953 0.23203867\n",
            " 0.23558013 0.23829429 0.23822172 0.24234375 0.24359198 0.24160353\n",
            " 0.2410665  0.23904903 0.24304044 0.24360649 0.24771401 0.24701733\n",
            " 0.24794624 0.25093617 0.24935412 0.24948475 0.24796075 0.25237307\n",
            " 0.25190862 0.24986212 0.25391158 0.25563877 0.25613225 0.26248948\n",
            " 0.26029783 0.25865773 0.25935441 0.2577143  0.25470986 0.25394061\n",
            " 0.25639351 0.2575111  0.25772882 0.26251851 0.26214114 0.26412958\n",
            " 0.26127028 0.25954309 0.26071874 0.26198148 0.26325873 0.26140091\n",
            " 0.26518912 0.266089   0.26486255 0.260472   0.2584255  0.24510145\n",
            " 0.24054399 0.24192284 0.23958605 0.23926674 0.23900549 0.24142936\n",
            " 0.238512   0.23723475 0.2335046  0.2342158  0.2357849  0.23520546\n",
            " 0.23505446 0.23503137 0.23503086 0.23502487 0.23500738 0.23497742\n",
            " 0.23493546 0.23488247 0.23481986 0.23474915 0.23467168 0.2345885\n",
            " 0.23450039 0.23440789 0.2343111  0.23421021 0.23410508 0.23399571\n",
            " 0.23388207 0.23376414 0.23364213 0.23351616]\n",
            "24 day output [[0.23338655]]\n",
            "25 day input [0.22399779 0.22158844 0.23288049 0.23277889 0.23026793 0.23285872\n",
            " 0.23314175 0.23142907 0.23070336 0.23070336 0.23160324 0.23502859\n",
            " 0.23518825 0.23379489 0.22996313 0.23036953 0.23203867 0.23558013\n",
            " 0.23829429 0.23822172 0.24234375 0.24359198 0.24160353 0.2410665\n",
            " 0.23904903 0.24304044 0.24360649 0.24771401 0.24701733 0.24794624\n",
            " 0.25093617 0.24935412 0.24948475 0.24796075 0.25237307 0.25190862\n",
            " 0.24986212 0.25391158 0.25563877 0.25613225 0.26248948 0.26029783\n",
            " 0.25865773 0.25935441 0.2577143  0.25470986 0.25394061 0.25639351\n",
            " 0.2575111  0.25772882 0.26251851 0.26214114 0.26412958 0.26127028\n",
            " 0.25954309 0.26071874 0.26198148 0.26325873 0.26140091 0.26518912\n",
            " 0.266089   0.26486255 0.260472   0.2584255  0.24510145 0.24054399\n",
            " 0.24192284 0.23958605 0.23926674 0.23900549 0.24142936 0.238512\n",
            " 0.23723475 0.2335046  0.2342158  0.2357849  0.23520546 0.23505446\n",
            " 0.23503137 0.23503086 0.23502487 0.23500738 0.23497742 0.23493546\n",
            " 0.23488247 0.23481986 0.23474915 0.23467168 0.2345885  0.23450039\n",
            " 0.23440789 0.2343111  0.23421021 0.23410508 0.23399571 0.23388207\n",
            " 0.23376414 0.23364213 0.23351616 0.23338655]\n",
            "25 day output [[0.23325366]]\n",
            "26 day input [0.22158844 0.23288049 0.23277889 0.23026793 0.23285872 0.23314175\n",
            " 0.23142907 0.23070336 0.23070336 0.23160324 0.23502859 0.23518825\n",
            " 0.23379489 0.22996313 0.23036953 0.23203867 0.23558013 0.23829429\n",
            " 0.23822172 0.24234375 0.24359198 0.24160353 0.2410665  0.23904903\n",
            " 0.24304044 0.24360649 0.24771401 0.24701733 0.24794624 0.25093617\n",
            " 0.24935412 0.24948475 0.24796075 0.25237307 0.25190862 0.24986212\n",
            " 0.25391158 0.25563877 0.25613225 0.26248948 0.26029783 0.25865773\n",
            " 0.25935441 0.2577143  0.25470986 0.25394061 0.25639351 0.2575111\n",
            " 0.25772882 0.26251851 0.26214114 0.26412958 0.26127028 0.25954309\n",
            " 0.26071874 0.26198148 0.26325873 0.26140091 0.26518912 0.266089\n",
            " 0.26486255 0.260472   0.2584255  0.24510145 0.24054399 0.24192284\n",
            " 0.23958605 0.23926674 0.23900549 0.24142936 0.238512   0.23723475\n",
            " 0.2335046  0.2342158  0.2357849  0.23520546 0.23505446 0.23503137\n",
            " 0.23503086 0.23502487 0.23500738 0.23497742 0.23493546 0.23488247\n",
            " 0.23481986 0.23474915 0.23467168 0.2345885  0.23450039 0.23440789\n",
            " 0.2343111  0.23421021 0.23410508 0.23399571 0.23388207 0.23376414\n",
            " 0.23364213 0.23351616 0.23338655 0.23325366]\n",
            "26 day output [[0.23311785]]\n",
            "27 day input [0.23288049 0.23277889 0.23026793 0.23285872 0.23314175 0.23142907\n",
            " 0.23070336 0.23070336 0.23160324 0.23502859 0.23518825 0.23379489\n",
            " 0.22996313 0.23036953 0.23203867 0.23558013 0.23829429 0.23822172\n",
            " 0.24234375 0.24359198 0.24160353 0.2410665  0.23904903 0.24304044\n",
            " 0.24360649 0.24771401 0.24701733 0.24794624 0.25093617 0.24935412\n",
            " 0.24948475 0.24796075 0.25237307 0.25190862 0.24986212 0.25391158\n",
            " 0.25563877 0.25613225 0.26248948 0.26029783 0.25865773 0.25935441\n",
            " 0.2577143  0.25470986 0.25394061 0.25639351 0.2575111  0.25772882\n",
            " 0.26251851 0.26214114 0.26412958 0.26127028 0.25954309 0.26071874\n",
            " 0.26198148 0.26325873 0.26140091 0.26518912 0.266089   0.26486255\n",
            " 0.260472   0.2584255  0.24510145 0.24054399 0.24192284 0.23958605\n",
            " 0.23926674 0.23900549 0.24142936 0.238512   0.23723475 0.2335046\n",
            " 0.2342158  0.2357849  0.23520546 0.23505446 0.23503137 0.23503086\n",
            " 0.23502487 0.23500738 0.23497742 0.23493546 0.23488247 0.23481986\n",
            " 0.23474915 0.23467168 0.2345885  0.23450039 0.23440789 0.2343111\n",
            " 0.23421021 0.23410508 0.23399571 0.23388207 0.23376414 0.23364213\n",
            " 0.23351616 0.23338655 0.23325366 0.23311785]\n",
            "27 day output [[0.23297961]]\n",
            "28 day input [0.23277889 0.23026793 0.23285872 0.23314175 0.23142907 0.23070336\n",
            " 0.23070336 0.23160324 0.23502859 0.23518825 0.23379489 0.22996313\n",
            " 0.23036953 0.23203867 0.23558013 0.23829429 0.23822172 0.24234375\n",
            " 0.24359198 0.24160353 0.2410665  0.23904903 0.24304044 0.24360649\n",
            " 0.24771401 0.24701733 0.24794624 0.25093617 0.24935412 0.24948475\n",
            " 0.24796075 0.25237307 0.25190862 0.24986212 0.25391158 0.25563877\n",
            " 0.25613225 0.26248948 0.26029783 0.25865773 0.25935441 0.2577143\n",
            " 0.25470986 0.25394061 0.25639351 0.2575111  0.25772882 0.26251851\n",
            " 0.26214114 0.26412958 0.26127028 0.25954309 0.26071874 0.26198148\n",
            " 0.26325873 0.26140091 0.26518912 0.266089   0.26486255 0.260472\n",
            " 0.2584255  0.24510145 0.24054399 0.24192284 0.23958605 0.23926674\n",
            " 0.23900549 0.24142936 0.238512   0.23723475 0.2335046  0.2342158\n",
            " 0.2357849  0.23520546 0.23505446 0.23503137 0.23503086 0.23502487\n",
            " 0.23500738 0.23497742 0.23493546 0.23488247 0.23481986 0.23474915\n",
            " 0.23467168 0.2345885  0.23450039 0.23440789 0.2343111  0.23421021\n",
            " 0.23410508 0.23399571 0.23388207 0.23376414 0.23364213 0.23351616\n",
            " 0.23338655 0.23325366 0.23311785 0.23297961]\n",
            "28 day output [[0.23283932]]\n",
            "29 day input [0.23026793 0.23285872 0.23314175 0.23142907 0.23070336 0.23070336\n",
            " 0.23160324 0.23502859 0.23518825 0.23379489 0.22996313 0.23036953\n",
            " 0.23203867 0.23558013 0.23829429 0.23822172 0.24234375 0.24359198\n",
            " 0.24160353 0.2410665  0.23904903 0.24304044 0.24360649 0.24771401\n",
            " 0.24701733 0.24794624 0.25093617 0.24935412 0.24948475 0.24796075\n",
            " 0.25237307 0.25190862 0.24986212 0.25391158 0.25563877 0.25613225\n",
            " 0.26248948 0.26029783 0.25865773 0.25935441 0.2577143  0.25470986\n",
            " 0.25394061 0.25639351 0.2575111  0.25772882 0.26251851 0.26214114\n",
            " 0.26412958 0.26127028 0.25954309 0.26071874 0.26198148 0.26325873\n",
            " 0.26140091 0.26518912 0.266089   0.26486255 0.260472   0.2584255\n",
            " 0.24510145 0.24054399 0.24192284 0.23958605 0.23926674 0.23900549\n",
            " 0.24142936 0.238512   0.23723475 0.2335046  0.2342158  0.2357849\n",
            " 0.23520546 0.23505446 0.23503137 0.23503086 0.23502487 0.23500738\n",
            " 0.23497742 0.23493546 0.23488247 0.23481986 0.23474915 0.23467168\n",
            " 0.2345885  0.23450039 0.23440789 0.2343111  0.23421021 0.23410508\n",
            " 0.23399571 0.23388207 0.23376414 0.23364213 0.23351616 0.23338655\n",
            " 0.23325366 0.23311785 0.23297961 0.23283932]\n",
            "29 day output [[0.2326974]]\n",
            "[[0.23578490316867828], [0.23520545661449432], [0.23505446314811707], [0.2350313663482666], [0.235030859708786], [0.23502486944198608], [0.2350073754787445], [0.23497742414474487], [0.234935462474823], [0.23488247394561768], [0.23481985926628113], [0.23474915325641632], [0.2346716821193695], [0.23458850383758545], [0.23450039327144623], [0.23440788686275482], [0.23431110382080078], [0.23421020805835724], [0.23410508036613464], [0.2339957058429718], [0.23388206958770752], [0.2337641417980194], [0.23364213109016418], [0.2335161566734314], [0.2333865463733673], [0.23325365781784058], [0.23311784863471985], [0.23297961056232452], [0.23283931612968445], [0.23269739747047424]]\n"
          ]
        }
      ]
    },
    {
      "cell_type": "code",
      "source": [
        "day_new = np.arange(1,100)\n",
        "day_pred = np.arange(101,131)"
      ],
      "metadata": {
        "id": "y5krSf5jnAu1"
      },
      "execution_count": 45,
      "outputs": []
    },
    {
      "cell_type": "code",
      "source": [
        "len(df1)"
      ],
      "metadata": {
        "colab": {
          "base_uri": "https://localhost:8080/"
        },
        "id": "2QupvlIOnAw2",
        "outputId": "79d0d68c-15b3-4cbb-f0a8-bcd88cc0cf8b"
      },
      "execution_count": 46,
      "outputs": [
        {
          "output_type": "execute_result",
          "data": {
            "text/plain": [
              "5945"
            ]
          },
          "metadata": {},
          "execution_count": 46
        }
      ]
    },
    {
      "cell_type": "code",
      "source": [
        "plt.plot(day_new, scaler.inverse_transform(df1[5846:]))\n",
        "plt.plot(day_pred, scaler.inverse_transform(lst_output))"
      ],
      "metadata": {
        "colab": {
          "base_uri": "https://localhost:8080/",
          "height": 447
        },
        "id": "yoVXI0JSnA1C",
        "outputId": "a0269a45-18ac-4084-8278-adb9ec59706f"
      },
      "execution_count": 47,
      "outputs": [
        {
          "output_type": "execute_result",
          "data": {
            "text/plain": [
              "[<matplotlib.lines.Line2D at 0x78e7fb3f6080>]"
            ]
          },
          "metadata": {},
          "execution_count": 47
        },
        {
          "output_type": "display_data",
          "data": {
            "text/plain": [
              "<Figure size 640x480 with 1 Axes>"
            ],
            "image/png": "[encoded data removed]"
          },
          "metadata": {}
        }
      ]
    },
    {
      "cell_type": "code",
      "source": [
        "df2 = df1.tolist()\n",
        "df2.extend(lst_output)\n",
        "plt.plot(df2[5900:])"
      ],
      "metadata": {
        "id": "OTdzKmfzVbhH",
        "outputId": "6dc5ed29-1ba5-4a89-a33f-7a5dafd16e96",
        "colab": {
          "base_uri": "https://localhost:8080/",
          "height": 447
        }
      },
      "execution_count": 48,
      "outputs": [
        {
          "output_type": "execute_result",
          "data": {
            "text/plain": [
              "[<matplotlib.lines.Line2D at 0x78e7f82b5510>]"
            ]
          },
          "metadata": {},
          "execution_count": 48
        },
        {
          "output_type": "display_data",
          "data": {
            "text/plain": [
              "<Figure size 640x480 with 1 Axes>"
            ],
            "image/png": "[encoded data removed]"
          },
          "metadata": {}
        }
      ]
    },
    {
      "cell_type": "code",
      "source": [
        "df2=scaler.inverse_transform(df2).tolist()"
      ],
      "metadata": {
        "id": "Hstks-gcZHtf"
      },
      "execution_count": 49,
      "outputs": []
    },
    {
      "cell_type": "code",
      "source": [
        "plt.plot(df2)"
      ],
      "metadata": {
        "id": "QN_riTEqZWZN",
        "outputId": "99497f7a-74fe-4966-b872-00414ad8b6f0",
        "colab": {
          "base_uri": "https://localhost:8080/",
          "height": 447
        }
      },
      "execution_count": 50,
      "outputs": [
        {
          "output_type": "execute_result",
          "data": {
            "text/plain": [
              "[<matplotlib.lines.Line2D at 0x78e7fb393340>]"
            ]
          },
          "metadata": {},
          "execution_count": 50
        },
        {
          "output_type": "display_data",
          "data": {
            "text/plain": [
              "<Figure size 640x480 with 1 Axes>"
            ],
            "image/png": "[encoded data removed]"
          },
          "metadata": {}
        }
      ]
    },
    {
      "cell_type": "code",
      "source": [],
      "metadata": {
        "id": "PrfpGBy2Zl9a"
      },
      "execution_count": null,
      "outputs": []
    }
  ]
}